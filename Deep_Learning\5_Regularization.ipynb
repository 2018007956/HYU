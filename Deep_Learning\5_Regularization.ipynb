{
  "nbformat": 4,
  "nbformat_minor": 0,
  "metadata": {
    "colab": {
      "provenance": [],
      "authorship_tag": "ABX9TyOeg1iTOZA05I5//tC0nzxl",
      "include_colab_link": true
    },
    "kernelspec": {
      "name": "python3",
      "display_name": "Python 3"
    },
    "language_info": {
      "name": "python"
    },
    "widgets": {
      "application/vnd.jupyter.widget-state+json": {
        "c61807d24b2b4a4283bfebd597485966": {
          "model_module": "@jupyter-widgets/controls",
          "model_name": "HBoxModel",
          "model_module_version": "1.5.0",
          "state": {
            "_dom_classes": [],
            "_model_module": "@jupyter-widgets/controls",
            "_model_module_version": "1.5.0",
            "_model_name": "HBoxModel",
            "_view_count": null,
            "_view_module": "@jupyter-widgets/controls",
            "_view_module_version": "1.5.0",
            "_view_name": "HBoxView",
            "box_style": "",
            "children": [
              "IPY_MODEL_7016cc61635d4ad887e2f28e9a9b28b1",
              "IPY_MODEL_0ac8fb10d2fe4f2dade3d678134cbedc",
              "IPY_MODEL_57a01118514b4a6187d3af9397512b93"
            ],
            "layout": "IPY_MODEL_a51a50f0750244a7bfb34324640dcaae"
          }
        },
        "7016cc61635d4ad887e2f28e9a9b28b1": {
          "model_module": "@jupyter-widgets/controls",
          "model_name": "HTMLModel",
          "model_module_version": "1.5.0",
          "state": {
            "_dom_classes": [],
            "_model_module": "@jupyter-widgets/controls",
            "_model_module_version": "1.5.0",
            "_model_name": "HTMLModel",
            "_view_count": null,
            "_view_module": "@jupyter-widgets/controls",
            "_view_module_version": "1.5.0",
            "_view_name": "HTMLView",
            "description": "",
            "description_tooltip": null,
            "layout": "IPY_MODEL_2e65a846c1264638b7f3d6c2bb998c87",
            "placeholder": "​",
            "style": "IPY_MODEL_c92cbe3d74da48d093c3fab4c05dec6c",
            "value": "100%"
          }
        },
        "0ac8fb10d2fe4f2dade3d678134cbedc": {
          "model_module": "@jupyter-widgets/controls",
          "model_name": "FloatProgressModel",
          "model_module_version": "1.5.0",
          "state": {
            "_dom_classes": [],
            "_model_module": "@jupyter-widgets/controls",
            "_model_module_version": "1.5.0",
            "_model_name": "FloatProgressModel",
            "_view_count": null,
            "_view_module": "@jupyter-widgets/controls",
            "_view_module_version": "1.5.0",
            "_view_name": "ProgressView",
            "bar_style": "success",
            "description": "",
            "description_tooltip": null,
            "layout": "IPY_MODEL_60df8481bf514cebbefe1f33f635af06",
            "max": 170498071,
            "min": 0,
            "orientation": "horizontal",
            "style": "IPY_MODEL_cefcb26344734769aacb637821c9909c",
            "value": 170498071
          }
        },
        "57a01118514b4a6187d3af9397512b93": {
          "model_module": "@jupyter-widgets/controls",
          "model_name": "HTMLModel",
          "model_module_version": "1.5.0",
          "state": {
            "_dom_classes": [],
            "_model_module": "@jupyter-widgets/controls",
            "_model_module_version": "1.5.0",
            "_model_name": "HTMLModel",
            "_view_count": null,
            "_view_module": "@jupyter-widgets/controls",
            "_view_module_version": "1.5.0",
            "_view_name": "HTMLView",
            "description": "",
            "description_tooltip": null,
            "layout": "IPY_MODEL_e5c4e640baaa4b42876b4eb3312d52dd",
            "placeholder": "​",
            "style": "IPY_MODEL_a6fbac98a1574f22b882953b9b3f4c13",
            "value": " 170498071/170498071 [00:03&lt;00:00, 55749036.83it/s]"
          }
        },
        "a51a50f0750244a7bfb34324640dcaae": {
          "model_module": "@jupyter-widgets/base",
          "model_name": "LayoutModel",
          "model_module_version": "1.2.0",
          "state": {
            "_model_module": "@jupyter-widgets/base",
            "_model_module_version": "1.2.0",
            "_model_name": "LayoutModel",
            "_view_count": null,
            "_view_module": "@jupyter-widgets/base",
            "_view_module_version": "1.2.0",
            "_view_name": "LayoutView",
            "align_content": null,
            "align_items": null,
            "align_self": null,
            "border": null,
            "bottom": null,
            "display": null,
            "flex": null,
            "flex_flow": null,
            "grid_area": null,
            "grid_auto_columns": null,
            "grid_auto_flow": null,
            "grid_auto_rows": null,
            "grid_column": null,
            "grid_gap": null,
            "grid_row": null,
            "grid_template_areas": null,
            "grid_template_columns": null,
            "grid_template_rows": null,
            "height": null,
            "justify_content": null,
            "justify_items": null,
            "left": null,
            "margin": null,
            "max_height": null,
            "max_width": null,
            "min_height": null,
            "min_width": null,
            "object_fit": null,
            "object_position": null,
            "order": null,
            "overflow": null,
            "overflow_x": null,
            "overflow_y": null,
            "padding": null,
            "right": null,
            "top": null,
            "visibility": null,
            "width": null
          }
        },
        "2e65a846c1264638b7f3d6c2bb998c87": {
          "model_module": "@jupyter-widgets/base",
          "model_name": "LayoutModel",
          "model_module_version": "1.2.0",
          "state": {
            "_model_module": "@jupyter-widgets/base",
            "_model_module_version": "1.2.0",
            "_model_name": "LayoutModel",
            "_view_count": null,
            "_view_module": "@jupyter-widgets/base",
            "_view_module_version": "1.2.0",
            "_view_name": "LayoutView",
            "align_content": null,
            "align_items": null,
            "align_self": null,
            "border": null,
            "bottom": null,
            "display": null,
            "flex": null,
            "flex_flow": null,
            "grid_area": null,
            "grid_auto_columns": null,
            "grid_auto_flow": null,
            "grid_auto_rows": null,
            "grid_column": null,
            "grid_gap": null,
            "grid_row": null,
            "grid_template_areas": null,
            "grid_template_columns": null,
            "grid_template_rows": null,
            "height": null,
            "justify_content": null,
            "justify_items": null,
            "left": null,
            "margin": null,
            "max_height": null,
            "max_width": null,
            "min_height": null,
            "min_width": null,
            "object_fit": null,
            "object_position": null,
            "order": null,
            "overflow": null,
            "overflow_x": null,
            "overflow_y": null,
            "padding": null,
            "right": null,
            "top": null,
            "visibility": null,
            "width": null
          }
        },
        "c92cbe3d74da48d093c3fab4c05dec6c": {
          "model_module": "@jupyter-widgets/controls",
          "model_name": "DescriptionStyleModel",
          "model_module_version": "1.5.0",
          "state": {
            "_model_module": "@jupyter-widgets/controls",
            "_model_module_version": "1.5.0",
            "_model_name": "DescriptionStyleModel",
            "_view_count": null,
            "_view_module": "@jupyter-widgets/base",
            "_view_module_version": "1.2.0",
            "_view_name": "StyleView",
            "description_width": ""
          }
        },
        "60df8481bf514cebbefe1f33f635af06": {
          "model_module": "@jupyter-widgets/base",
          "model_name": "LayoutModel",
          "model_module_version": "1.2.0",
          "state": {
            "_model_module": "@jupyter-widgets/base",
            "_model_module_version": "1.2.0",
            "_model_name": "LayoutModel",
            "_view_count": null,
            "_view_module": "@jupyter-widgets/base",
            "_view_module_version": "1.2.0",
            "_view_name": "LayoutView",
            "align_content": null,
            "align_items": null,
            "align_self": null,
            "border": null,
            "bottom": null,
            "display": null,
            "flex": null,
            "flex_flow": null,
            "grid_area": null,
            "grid_auto_columns": null,
            "grid_auto_flow": null,
            "grid_auto_rows": null,
            "grid_column": null,
            "grid_gap": null,
            "grid_row": null,
            "grid_template_areas": null,
            "grid_template_columns": null,
            "grid_template_rows": null,
            "height": null,
            "justify_content": null,
            "justify_items": null,
            "left": null,
            "margin": null,
            "max_height": null,
            "max_width": null,
            "min_height": null,
            "min_width": null,
            "object_fit": null,
            "object_position": null,
            "order": null,
            "overflow": null,
            "overflow_x": null,
            "overflow_y": null,
            "padding": null,
            "right": null,
            "top": null,
            "visibility": null,
            "width": null
          }
        },
        "cefcb26344734769aacb637821c9909c": {
          "model_module": "@jupyter-widgets/controls",
          "model_name": "ProgressStyleModel",
          "model_module_version": "1.5.0",
          "state": {
            "_model_module": "@jupyter-widgets/controls",
            "_model_module_version": "1.5.0",
            "_model_name": "ProgressStyleModel",
            "_view_count": null,
            "_view_module": "@jupyter-widgets/base",
            "_view_module_version": "1.2.0",
            "_view_name": "StyleView",
            "bar_color": null,
            "description_width": ""
          }
        },
        "e5c4e640baaa4b42876b4eb3312d52dd": {
          "model_module": "@jupyter-widgets/base",
          "model_name": "LayoutModel",
          "model_module_version": "1.2.0",
          "state": {
            "_model_module": "@jupyter-widgets/base",
            "_model_module_version": "1.2.0",
            "_model_name": "LayoutModel",
            "_view_count": null,
            "_view_module": "@jupyter-widgets/base",
            "_view_module_version": "1.2.0",
            "_view_name": "LayoutView",
            "align_content": null,
            "align_items": null,
            "align_self": null,
            "border": null,
            "bottom": null,
            "display": null,
            "flex": null,
            "flex_flow": null,
            "grid_area": null,
            "grid_auto_columns": null,
            "grid_auto_flow": null,
            "grid_auto_rows": null,
            "grid_column": null,
            "grid_gap": null,
            "grid_row": null,
            "grid_template_areas": null,
            "grid_template_columns": null,
            "grid_template_rows": null,
            "height": null,
            "justify_content": null,
            "justify_items": null,
            "left": null,
            "margin": null,
            "max_height": null,
            "max_width": null,
            "min_height": null,
            "min_width": null,
            "object_fit": null,
            "object_position": null,
            "order": null,
            "overflow": null,
            "overflow_x": null,
            "overflow_y": null,
            "padding": null,
            "right": null,
            "top": null,
            "visibility": null,
            "width": null
          }
        },
        "a6fbac98a1574f22b882953b9b3f4c13": {
          "model_module": "@jupyter-widgets/controls",
          "model_name": "DescriptionStyleModel",
          "model_module_version": "1.5.0",
          "state": {
            "_model_module": "@jupyter-widgets/controls",
            "_model_module_version": "1.5.0",
            "_model_name": "DescriptionStyleModel",
            "_view_count": null,
            "_view_module": "@jupyter-widgets/base",
            "_view_module_version": "1.2.0",
            "_view_name": "StyleView",
            "description_width": ""
          }
        }
      }
    }
  },
  "cells": [
    {
      "cell_type": "markdown",
      "metadata": {
        "id": "view-in-github",
        "colab_type": "text"
      },
      "source": [
        "<a href=\"https://colab.research.google.com/github/2018007956/HYU/blob/main/Deep_Learning%5C5_Regularization.ipynb\" target=\"_parent\"><img src=\"https://colab.research.google.com/assets/colab-badge.svg\" alt=\"Open In Colab\"/></a>"
      ]
    },
    {
      "cell_type": "markdown",
      "source": [
        "1. Overfitting\n",
        "2. L1 L2 Regularization\n",
        "3. Dropout\n",
        "4. Normalization"
      ],
      "metadata": {
        "id": "s7nPsAj73Neb"
      }
    },
    {
      "cell_type": "markdown",
      "source": [
        "# 1. Overfitting\n",
        "학습데이터에 대해 과하게 학습하여 실제 데이터에 대한 오차가 증가할 경우 발생  \n",
        "Sol) Training data 늘림, Regularization, Dropout"
      ],
      "metadata": {
        "id": "S5tqaJQl3TtI"
      }
    },
    {
      "cell_type": "markdown",
      "source": [
        "# 2. L1 L2 Regularization\n",
        "모델 파라미터 확인: named_parameters() or parameters()"
      ],
      "metadata": {
        "id": "5fZU9pkA3iZU"
      }
    },
    {
      "cell_type": "code",
      "source": [
        "import torch\n",
        "import torch.nn as nn\n",
        "import torch.optim as optim\n",
        "\n",
        "class LogisticRegression(nn.Module):\n",
        "  def __init__(self, x_in, x_out):\n",
        "    super(LogisticRegression, self).__init__()\n",
        "    self.linear = nn.Linear(x_in, x_out)\n",
        "    self.activation = nn.Sigmoid()\n",
        "  def forward(self, x):\n",
        "    z = self.linear(x)\n",
        "    a = self.activation(z)\n",
        "    return a\n",
        "\n",
        "model = LogisticRegression(2, 1)"
      ],
      "metadata": {
        "id": "HF3Dt3OU3Nq5"
      },
      "execution_count": 2,
      "outputs": []
    },
    {
      "cell_type": "code",
      "source": [
        "for name, param in model.named_parameters():\n",
        "  print('========================')\n",
        "  print(name)\n",
        "  print(param.shape)\n",
        "  print(param)"
      ],
      "metadata": {
        "colab": {
          "base_uri": "https://localhost:8080/"
        },
        "id": "2w5UkqSf3NtH",
        "outputId": "68de6cd7-9037-496e-cccd-e83c43a77c01"
      },
      "execution_count": 3,
      "outputs": [
        {
          "output_type": "stream",
          "name": "stdout",
          "text": [
            "========================\n",
            "linear.weight\n",
            "torch.Size([1, 2])\n",
            "Parameter containing:\n",
            "tensor([[-0.3816, -0.6748]], requires_grad=True)\n",
            "========================\n",
            "linear.bias\n",
            "torch.Size([1])\n",
            "Parameter containing:\n",
            "tensor([0.1560], requires_grad=True)\n"
          ]
        }
      ]
    },
    {
      "cell_type": "markdown",
      "source": [
        "## L1 loss in LogisticRegression\n",
        "reg = model.linear.weight.abs().sum()"
      ],
      "metadata": {
        "id": "2YJvmN4T5xHY"
      }
    },
    {
      "cell_type": "code",
      "source": [
        "print(model.linear.weight)\n",
        "print(model.linear.weight.abs().sum())"
      ],
      "metadata": {
        "colab": {
          "base_uri": "https://localhost:8080/"
        },
        "id": "hltHaXg13Nxu",
        "outputId": "2d1a8a21-5b93-45dc-ef90-9eef168abdee"
      },
      "execution_count": 4,
      "outputs": [
        {
          "output_type": "stream",
          "name": "stdout",
          "text": [
            "Parameter containing:\n",
            "tensor([[-0.3816, -0.6748]], requires_grad=True)\n",
            "tensor(1.0564, grad_fn=<SumBackward0>)\n"
          ]
        }
      ]
    },
    {
      "cell_type": "markdown",
      "source": [
        "## L2 loss in LogisticRegression\n",
        "reg = model.linear.weight.pow(2.0).sum()"
      ],
      "metadata": {
        "id": "mimYYRSF51y8"
      }
    },
    {
      "cell_type": "code",
      "source": [
        "print(model.linear.weight)\n",
        "print(model.linear.weight.pow(2.0).sum())"
      ],
      "metadata": {
        "colab": {
          "base_uri": "https://localhost:8080/"
        },
        "id": "OsLGG7gc5ufe",
        "outputId": "8f38e705-af67-4703-fc1e-a38170b82690"
      },
      "execution_count": 5,
      "outputs": [
        {
          "output_type": "stream",
          "name": "stdout",
          "text": [
            "Parameter containing:\n",
            "tensor([[-0.3816, -0.6748]], requires_grad=True)\n",
            "tensor(0.6010, grad_fn=<SumBackward0>)\n"
          ]
        }
      ]
    },
    {
      "cell_type": "markdown",
      "source": [
        "## Random Seed 고정\n",
        "- 모델 weight가 생성될 때마다 random하게 생성됨\n",
        "- 성능 비교를 하기위해 값을 고정하는게 좋다\n",
        "  - 어떤 random한 값에서는 좋게 나오고 다른 값에서는 나쁘게 나올 수 있음"
      ],
      "metadata": {
        "id": "1s7O3c016hio"
      }
    },
    {
      "cell_type": "code",
      "source": [
        "import torch\n",
        "import torch.nn as nn\n",
        "import torch.optim as optim\n",
        "\n",
        "torch.manual_seed(0)\n",
        "torch.cuda.manual_seed(0)\n",
        "torch.cuda.manual_seed_all(0)"
      ],
      "metadata": {
        "id": "YOowRY026bJr"
      },
      "execution_count": 6,
      "outputs": []
    },
    {
      "cell_type": "code",
      "source": [
        "print(model.linear.weight[0,1])"
      ],
      "metadata": {
        "colab": {
          "base_uri": "https://localhost:8080/"
        },
        "id": "_PHXzBxL6yR8",
        "outputId": "71c595f0-6604-4fd4-8009-d01e7959a17f"
      },
      "execution_count": 7,
      "outputs": [
        {
          "output_type": "stream",
          "name": "stdout",
          "text": [
            "tensor(-0.6748, grad_fn=<SelectBackward0>)\n"
          ]
        }
      ]
    },
    {
      "cell_type": "markdown",
      "source": [
        "## Cifar-10\n",
        "RGB Images, Class 10  \n",
        "Size: 32 * 32 * 3  \n",
        "Training:Test = 50000:10000"
      ],
      "metadata": {
        "id": "vDlQlp1g6L1g"
      }
    },
    {
      "cell_type": "code",
      "source": [
        "import torchvision\n",
        "import torchvision.transforms as transforms\n",
        "\n",
        "train_dataset = torchvision.datasets.CIFAR10(root='CIFAR10/',\n",
        "                                             train=True,\n",
        "                                             transform=transforms.ToTensor(),\n",
        "                                             download=True)\n",
        "test_dataset = torchvision.datasets.CIFAR10(root='CIFAR10/',\n",
        "                                             train=False,\n",
        "                                             transform=transforms.ToTensor(),\n",
        "                                             download=True)"
      ],
      "metadata": {
        "colab": {
          "base_uri": "https://localhost:8080/",
          "height": 103,
          "referenced_widgets": [
            "c61807d24b2b4a4283bfebd597485966",
            "7016cc61635d4ad887e2f28e9a9b28b1",
            "0ac8fb10d2fe4f2dade3d678134cbedc",
            "57a01118514b4a6187d3af9397512b93",
            "a51a50f0750244a7bfb34324640dcaae",
            "2e65a846c1264638b7f3d6c2bb998c87",
            "c92cbe3d74da48d093c3fab4c05dec6c",
            "60df8481bf514cebbefe1f33f635af06",
            "cefcb26344734769aacb637821c9909c",
            "e5c4e640baaa4b42876b4eb3312d52dd",
            "a6fbac98a1574f22b882953b9b3f4c13"
          ]
        },
        "id": "YQlR35tu5-75",
        "outputId": "fd4678f5-2d69-4e6c-e962-2bd55cbb9c52"
      },
      "execution_count": 8,
      "outputs": [
        {
          "output_type": "stream",
          "name": "stdout",
          "text": [
            "Downloading https://www.cs.toronto.edu/~kriz/cifar-10-python.tar.gz to CIFAR10/cifar-10-python.tar.gz\n"
          ]
        },
        {
          "output_type": "display_data",
          "data": {
            "text/plain": [
              "  0%|          | 0/170498071 [00:00<?, ?it/s]"
            ],
            "application/vnd.jupyter.widget-view+json": {
              "version_major": 2,
              "version_minor": 0,
              "model_id": "c61807d24b2b4a4283bfebd597485966"
            }
          },
          "metadata": {}
        },
        {
          "output_type": "stream",
          "name": "stdout",
          "text": [
            "Extracting CIFAR10/cifar-10-python.tar.gz to CIFAR10/\n",
            "Files already downloaded and verified\n"
          ]
        }
      ]
    },
    {
      "cell_type": "markdown",
      "source": [
        "## Model Structure\n",
        "Input size: 32 * 32 * 3  \n",
        "Output size: 10"
      ],
      "metadata": {
        "id": "gpeu2MXI68VG"
      }
    },
    {
      "cell_type": "code",
      "source": [
        "if torch.cuda.is_available():\n",
        "  device = torch.device('cuda')\n",
        "else:\n",
        "  device = torch.device('cpu')"
      ],
      "metadata": {
        "id": "RIhSC5mD8s7v"
      },
      "execution_count": 9,
      "outputs": []
    },
    {
      "cell_type": "code",
      "source": [
        "batch_size = 128\n",
        "\n",
        "train_dataloader = torch.utils.data.DataLoader(train_dataset, batch_size=batch_size, shuffle=True)\n",
        "test_dataloader = torch.utils.data.DataLoader(test_dataset, batch_size=batch_size)"
      ],
      "metadata": {
        "id": "UdyxIo-f8mec"
      },
      "execution_count": 10,
      "outputs": []
    },
    {
      "cell_type": "code",
      "source": [
        "class Model(nn.Module):\n",
        "  def __init__(self):\n",
        "    super(Model, self).__init__()\n",
        "    self.linear1 = nn.Linear(32*32*3, 256)\n",
        "    self.linear2 = nn.Linear(256, 128)\n",
        "    self.linear3 = nn.Linear(128, 10)\n",
        "\n",
        "    self.activation = nn.Sigmoid()\n",
        "\n",
        "  def forward(self, x):\n",
        "    z1 = self.linear1(x)\n",
        "    a1 = self.activation(z1)\n",
        "\n",
        "    z2 = self.linear2(a1)\n",
        "    a2 = self.activation(z2)\n",
        "\n",
        "    z3 = self.linear3(a2)\n",
        "\n",
        "    return z3"
      ],
      "metadata": {
        "id": "LNvdSYsZ6z6K"
      },
      "execution_count": 20,
      "outputs": []
    },
    {
      "cell_type": "code",
      "source": [
        "model = Model().to(device).train()"
      ],
      "metadata": {
        "id": "JcqWVBZX9NF1"
      },
      "execution_count": 21,
      "outputs": []
    },
    {
      "cell_type": "code",
      "source": [
        "optimizer = optim.SGD(model.parameters(), lr=1)"
      ],
      "metadata": {
        "id": "z0dmzFcN9NIY"
      },
      "execution_count": 22,
      "outputs": []
    },
    {
      "cell_type": "code",
      "source": [
        "criterion = nn.CrossEntropyLoss()"
      ],
      "metadata": {
        "id": "Zr52O_Qy9TE-"
      },
      "execution_count": 14,
      "outputs": []
    },
    {
      "cell_type": "markdown",
      "source": [
        "- 실제로 학습이 overfitting인지 확인  \n",
        "  - Matplotlib 활용\n",
        "  - detach(): 기존 텐서 복사\n",
        "  - cpu(): GPU에 있는 tensor CPU로 이동"
      ],
      "metadata": {
        "id": "Qs2F0jXwDLI6"
      }
    },
    {
      "cell_type": "code",
      "source": [
        "epochs = 30\n",
        "lmbd = 0.003\n",
        "\n",
        "train_avg_costs = []\n",
        "test_avg_costs = []\n",
        "\n",
        "test_total_batch = len(test_dataloader)\n",
        "total_batch_num = len(train_dataloader)\n",
        "\n",
        "for epoch in range(epochs):\n",
        "  avg_cost = 0\n",
        "  model.train()\n",
        "  for b_x, b_y in train_dataloader:\n",
        "    b_x = b_x.view(-1, 32*32*3).to(device)\n",
        "    logits = model(b_x) # forward propagation\n",
        "    loss = criterion(logits, b_y.to(device)) # get cost\n",
        "\n",
        "    # L2 Regularization\n",
        "    reg = model.linear1.weight.pow(2.0).sum()\n",
        "    reg += model.linear2.weight.pow(2.0).sum()\n",
        "    reg += model.linear3.weight.pow(2.0).sum()\n",
        "    loss += lmbd*reg/len(b_x)/2.\n",
        "\n",
        "    optimizer.zero_grad()\n",
        "    loss.backward() # backward propagation\n",
        "    optimizer.step() # update parameters\n",
        "\n",
        "    avg_cost += loss/total_batch_num\n",
        "  train_avg_costs.append(avg_cost.detach().cpu())\n",
        "  print('Epoch : {} / {}, cost: {}'.format(epoch+1, epochs, avg_cost))\n",
        "\n",
        "  test_avg_cost=0\n",
        "  model.eval()\n",
        "  for b_x, b_y in test_dataloader:\n",
        "    b_x = b_x.view(-1, 32*32*3).to(device)\n",
        "    with torch.no_grad():\n",
        "      logits = model(b_x)\n",
        "      test_loss = criterion(logits, b_y.to(device)) # get cost \n",
        "    test_avg_cost += test_loss / test_total_batch \n",
        "\n",
        "  test_avg_costs.append(test_avg_cost.detach().cpu())"
      ],
      "metadata": {
        "colab": {
          "base_uri": "https://localhost:8080/"
        },
        "id": "FkgCca-y7Np4",
        "outputId": "8bb0d932-d136-4b0a-9fdb-e908c3e089d3"
      },
      "execution_count": 25,
      "outputs": [
        {
          "output_type": "stream",
          "name": "stdout",
          "text": [
            "Epoch : 1 / 30, cost: 1.2776256799697876\n",
            "Epoch : 2 / 30, cost: 1.2607420682907104\n",
            "Epoch : 3 / 30, cost: 1.2506444454193115\n",
            "Epoch : 4 / 30, cost: 1.2461702823638916\n",
            "Epoch : 5 / 30, cost: 1.2413525581359863\n",
            "Epoch : 6 / 30, cost: 1.2354445457458496\n",
            "Epoch : 7 / 30, cost: 1.2342416048049927\n",
            "Epoch : 8 / 30, cost: 1.2128193378448486\n",
            "Epoch : 9 / 30, cost: 1.220913052558899\n",
            "Epoch : 10 / 30, cost: 1.215277075767517\n",
            "Epoch : 11 / 30, cost: 1.2067861557006836\n",
            "Epoch : 12 / 30, cost: 1.1988952159881592\n",
            "Epoch : 13 / 30, cost: 1.2049226760864258\n",
            "Epoch : 14 / 30, cost: 1.1912301778793335\n",
            "Epoch : 15 / 30, cost: 1.1882240772247314\n",
            "Epoch : 16 / 30, cost: 1.1795523166656494\n",
            "Epoch : 17 / 30, cost: 1.159223198890686\n",
            "Epoch : 18 / 30, cost: 1.1694755554199219\n",
            "Epoch : 19 / 30, cost: 1.1600922346115112\n",
            "Epoch : 20 / 30, cost: 1.1595392227172852\n",
            "Epoch : 21 / 30, cost: 1.1587382555007935\n",
            "Epoch : 22 / 30, cost: 1.1456007957458496\n",
            "Epoch : 23 / 30, cost: 1.1501083374023438\n",
            "Epoch : 24 / 30, cost: 1.1382532119750977\n",
            "Epoch : 25 / 30, cost: 1.137956976890564\n",
            "Epoch : 26 / 30, cost: 1.1301418542861938\n",
            "Epoch : 27 / 30, cost: 1.1228282451629639\n",
            "Epoch : 28 / 30, cost: 1.1202996969223022\n",
            "Epoch : 29 / 30, cost: 1.1148123741149902\n",
            "Epoch : 30 / 30, cost: 1.127373456954956\n"
          ]
        }
      ]
    },
    {
      "cell_type": "code",
      "source": [
        "import matplotlib.pyplot as plt\n",
        "import numpy as np\n",
        "epoch = range(epochs)\n",
        "plt.plot(epoch, train_avg_costs, 'r-')\n",
        "plt.plot(epoch, test_avg_costs, 'b-')\n",
        "plt.xlabel('Epoch')\n",
        "plt.ylabel('Loss')\n",
        "plt.legend(['train','test'])\n",
        "plt.show()"
      ],
      "metadata": {
        "id": "YADkkRv28bO9",
        "colab": {
          "base_uri": "https://localhost:8080/",
          "height": 279
        },
        "outputId": "e371709c-1a7a-4bf6-f3f0-86c818174883"
      },
      "execution_count": 27,
      "outputs": [
        {
          "output_type": "display_data",
          "data": {
            "text/plain": [
              "<Figure size 432x288 with 1 Axes>"
            ],
            "image/png": "[encoded data removed]"
          },
          "metadata": {
            "needs_background": "light"
          }
        }
      ]
    },
    {
      "cell_type": "code",
      "source": [
        "# Test set accuracy\n",
        "# from sklearn.metrics import accuracy_score\n",
        "sum(test_avg_costs)/len(test_dataloader)"
      ],
      "metadata": {
        "colab": {
          "base_uri": "https://localhost:8080/"
        },
        "id": "cG0AWImbFPBV",
        "outputId": "5aebb3d2-439f-4fff-fc40-3a42c8941cb8"
      },
      "execution_count": 39,
      "outputs": [
        {
          "output_type": "execute_result",
          "data": {
            "text/plain": [
              "tensor(0.5577)"
            ]
          },
          "metadata": {},
          "execution_count": 39
        }
      ]
    },
    {
      "cell_type": "markdown",
      "source": [
        "#3. Dropout"
      ],
      "metadata": {
        "id": "JU_6V3tA9wMB"
      }
    },
    {
      "cell_type": "code",
      "source": [
        "class Model(nn.Module):\n",
        "  def __init__(self, drop_prob):\n",
        "    super(Model, self).__init__()\n",
        "    self.linear1 = nn.Linear(32*32*3, 256)\n",
        "    self.linear2 = nn.Linear(256, 128)\n",
        "    self.linear3 = nn.Linear(128, 10)\n",
        "\n",
        "    self.dropout = nn.Dropout(drop_prob)\n",
        "    self.activation = nn.Sigmoid()\n",
        "\n",
        "  def forward(self, x):\n",
        "    z1 = self.linear1(x)\n",
        "    a1 = self.activation(z1)\n",
        "    a1 = self.dropout(a1)\n",
        "\n",
        "    z2 = self.linear2(a1)\n",
        "    a2 = self.activation(z2)\n",
        "    a2 = self.dropout(a2)\n",
        "\n",
        "    z3 = self.linear3(a2)\n",
        "\n",
        "    return z3"
      ],
      "metadata": {
        "id": "kxK-XtbE9xsp"
      },
      "execution_count": 40,
      "outputs": []
    },
    {
      "cell_type": "code",
      "source": [
        "model = Model(0.1).to(device).train()"
      ],
      "metadata": {
        "id": "aM53tHsY-AQ_"
      },
      "execution_count": 41,
      "outputs": []
    },
    {
      "cell_type": "code",
      "source": [
        "epochs = 20\n",
        "lmbd = 0.003\n",
        "\n",
        "train_avg_costs = []\n",
        "test_avg_costs = []\n",
        "\n",
        "test_total_batch = len(test_dataloader)\n",
        "total_batch_num = len(train_dataloader)\n",
        "\n",
        "for epoch in range(epochs):\n",
        "  avg_cost = 0\n",
        "  model.train()\n",
        "  for b_x, b_y in train_dataloader:\n",
        "    b_x = b_x.view(-1, 32*32*3).to(device)\n",
        "    logits = model(b_x) # forward propagation\n",
        "    loss = criterion(logits, b_y.to(device)) # get cost\n",
        "\n",
        "    # L2 Regularization\n",
        "    reg = model.linear1.weight.pow(2.0).sum()\n",
        "    reg += model.linear2.weight.pow(2.0).sum()\n",
        "    reg += model.linear3.weight.pow(2.0).sum()\n",
        "    loss += lmbd*reg/len(b_x)/2.\n",
        "\n",
        "    optimizer.zero_grad()\n",
        "    loss.backward() # backward propagation\n",
        "    optimizer.step() # update parameters\n",
        "\n",
        "    avg_cost += loss/total_batch_num\n",
        "  train_avg_costs.append(avg_cost.detach().cpu())\n",
        "  print('Epoch : {} / {}, cost: {}'.format(epoch+1, epochs, avg_cost))\n",
        "\n",
        "  test_avg_cost=0\n",
        "  model.eval()\n",
        "  for b_x, b_y in test_dataloader:\n",
        "    b_x = b_x.view(-1, 32*32*3).to(device)\n",
        "    with torch.no_grad():\n",
        "      logits = model(b_x)\n",
        "      test_loss = criterion(logits, b_y.to(device)) # get cost \n",
        "    test_avg_cost += test_loss / test_total_batch \n",
        "\n",
        "  test_avg_costs.append(test_avg_cost.detach().cpu())"
      ],
      "metadata": {
        "colab": {
          "base_uri": "https://localhost:8080/"
        },
        "id": "LzFOi0iLMAXu",
        "outputId": "3c02043c-22c0-4ac1-9bdc-109ab1e65572"
      },
      "execution_count": 42,
      "outputs": [
        {
          "output_type": "stream",
          "name": "stdout",
          "text": [
            "Epoch : 1 / 20, cost: 2.37669038772583\n",
            "Epoch : 2 / 20, cost: 2.376309394836426\n",
            "Epoch : 3 / 20, cost: 2.3765299320220947\n",
            "Epoch : 4 / 20, cost: 2.3770196437835693\n",
            "Epoch : 5 / 20, cost: 2.376555919647217\n",
            "Epoch : 6 / 20, cost: 2.37602162361145\n",
            "Epoch : 7 / 20, cost: 2.3762996196746826\n",
            "Epoch : 8 / 20, cost: 2.37703800201416\n",
            "Epoch : 9 / 20, cost: 2.3776655197143555\n",
            "Epoch : 10 / 20, cost: 2.376386880874634\n",
            "Epoch : 11 / 20, cost: 2.3764779567718506\n",
            "Epoch : 12 / 20, cost: 2.37656307220459\n",
            "Epoch : 13 / 20, cost: 2.376694679260254\n",
            "Epoch : 14 / 20, cost: 2.3763818740844727\n",
            "Epoch : 15 / 20, cost: 2.3767223358154297\n",
            "Epoch : 16 / 20, cost: 2.3763954639434814\n",
            "Epoch : 17 / 20, cost: 2.377157688140869\n",
            "Epoch : 18 / 20, cost: 2.376375436782837\n",
            "Epoch : 19 / 20, cost: 2.376584768295288\n",
            "Epoch : 20 / 20, cost: 2.377328395843506\n"
          ]
        }
      ]
    },
    {
      "cell_type": "code",
      "source": [
        "import matplotlib.pyplot as plt\n",
        "import numpy as np\n",
        "epoch = range(epochs)\n",
        "plt.plot(epoch, train_avg_costs, 'r-')\n",
        "plt.plot(epoch, test_avg_costs, 'b-')\n",
        "plt.xlabel('Epoch')\n",
        "plt.ylabel('Loss')\n",
        "plt.legend(['train','test'])\n",
        "plt.show()"
      ],
      "metadata": {
        "colab": {
          "base_uri": "https://localhost:8080/",
          "height": 279
        },
        "id": "6LXRGPDUMAaO",
        "outputId": "40cbde7f-f5d5-43f0-da0e-dd4976e17315"
      },
      "execution_count": 43,
      "outputs": [
        {
          "output_type": "display_data",
          "data": {
            "text/plain": [
              "<Figure size 432x288 with 1 Axes>"
            ],
            "image/png": "[encoded data removed]"
          },
          "metadata": {
            "needs_background": "light"
          }
        }
      ]
    },
    {
      "cell_type": "code",
      "source": [
        "test_avg_costs"
      ],
      "metadata": {
        "colab": {
          "base_uri": "https://localhost:8080/"
        },
        "id": "ffilUo4KMFdQ",
        "outputId": "f19c2e08-245b-4d36-c08f-4a3384855c18"
      },
      "execution_count": 44,
      "outputs": [
        {
          "output_type": "execute_result",
          "data": {
            "text/plain": [
              "tensor(0.6004)"
            ]
          },
          "metadata": {},
          "execution_count": 44
        }
      ]
    },
    {
      "cell_type": "markdown",
      "source": [
        "#4. Normalization"
      ],
      "metadata": {
        "id": "yz9A9tH9-DmE"
      }
    },
    {
      "cell_type": "code",
      "source": [
        "import torchvision\n",
        "import torchvision.transforms as train\n",
        "\n",
        "transform = transforms.Compose(\n",
        "    [transforms.ToTensor(),\n",
        "     transforms.Normalize((0.4914, 0.4822, 0.4465), (0.247, 0.243, 0.261))]\n",
        ")\n",
        "\n",
        "train_dataset = torchvision.datasets.CIFAR10(root='CIFAR10/',\n",
        "                                             train=True,\n",
        "                                             transform=transforms.ToTensor(),\n",
        "                                             download=True)\n",
        "test_dataset = torchvision.datasets.CIFAR10(root='CIFAR10/',\n",
        "                                             train=False,\n",
        "                                             transform=transforms.ToTensor(),\n",
        "                                             download=True)"
      ],
      "metadata": {
        "id": "bBYwP9Zq-Cfj",
        "colab": {
          "base_uri": "https://localhost:8080/"
        },
        "outputId": "8d88bfa5-b582-42b3-fc00-b2eba83286d7"
      },
      "execution_count": 45,
      "outputs": [
        {
          "output_type": "stream",
          "name": "stdout",
          "text": [
            "Files already downloaded and verified\n",
            "Files already downloaded and verified\n"
          ]
        }
      ]
    },
    {
      "cell_type": "code",
      "source": [
        "model = Model(0.1).to(device).train()"
      ],
      "metadata": {
        "id": "kBlWtkZuNiXF"
      },
      "execution_count": 47,
      "outputs": []
    },
    {
      "cell_type": "code",
      "source": [
        "epochs = 20\n",
        "lmbd = 0.003\n",
        "\n",
        "train_avg_costs = []\n",
        "test_avg_costs = []\n",
        "\n",
        "test_total_batch = len(test_dataloader)\n",
        "total_batch_num = len(train_dataloader)\n",
        "\n",
        "for epoch in range(epochs):\n",
        "  avg_cost = 0\n",
        "  model.train()\n",
        "  for b_x, b_y in train_dataloader:\n",
        "    b_x = b_x.view(-1, 32*32*3).to(device)\n",
        "    logits = model(b_x) # forward propagation\n",
        "    loss = criterion(logits, b_y.to(device)) # get cost\n",
        "\n",
        "    # L2 Regularization\n",
        "    reg = model.linear1.weight.pow(2.0).sum()\n",
        "    reg += model.linear2.weight.pow(2.0).sum()\n",
        "    reg += model.linear3.weight.pow(2.0).sum()\n",
        "    loss += lmbd*reg/len(b_x)/2.\n",
        "\n",
        "    optimizer.zero_grad()\n",
        "    loss.backward() # backward propagation\n",
        "    optimizer.step() # update parameters\n",
        "\n",
        "    avg_cost += loss/total_batch_num\n",
        "  train_avg_costs.append(avg_cost.detach().cpu())\n",
        "  print('Epoch : {} / {}, cost: {}'.format(epoch+1, epochs, avg_cost))\n",
        "\n",
        "  test_avg_cost=0\n",
        "  model.eval()\n",
        "  for b_x, b_y in test_dataloader:\n",
        "    b_x = b_x.view(-1, 32*32*3).to(device)\n",
        "    with torch.no_grad():\n",
        "      logits = model(b_x)\n",
        "      test_loss = criterion(logits, b_y.to(device)) # get cost \n",
        "    test_avg_cost += test_loss / test_total_batch \n",
        "\n",
        "  test_avg_costs.append(test_avg_cost.detach().cpu())"
      ],
      "metadata": {
        "colab": {
          "base_uri": "https://localhost:8080/"
        },
        "id": "xL-0ybWIMItK",
        "outputId": "89f3afd2-6836-49c0-d6db-59da9542fa74"
      },
      "execution_count": 48,
      "outputs": [
        {
          "output_type": "stream",
          "name": "stdout",
          "text": [
            "Epoch : 1 / 20, cost: 2.349885940551758\n",
            "Epoch : 2 / 20, cost: 2.3506252765655518\n",
            "Epoch : 3 / 20, cost: 2.3505702018737793\n",
            "Epoch : 4 / 20, cost: 2.349616527557373\n",
            "Epoch : 5 / 20, cost: 2.349648952484131\n",
            "Epoch : 6 / 20, cost: 2.3497121334075928\n",
            "Epoch : 7 / 20, cost: 2.3497250080108643\n",
            "Epoch : 8 / 20, cost: 2.3496391773223877\n",
            "Epoch : 9 / 20, cost: 2.3499512672424316\n",
            "Epoch : 10 / 20, cost: 2.3501293659210205\n",
            "Epoch : 11 / 20, cost: 2.3495936393737793\n",
            "Epoch : 12 / 20, cost: 2.349809408187866\n",
            "Epoch : 13 / 20, cost: 2.3496360778808594\n",
            "Epoch : 14 / 20, cost: 2.3496079444885254\n",
            "Epoch : 15 / 20, cost: 2.3500285148620605\n",
            "Epoch : 16 / 20, cost: 2.3501060009002686\n",
            "Epoch : 17 / 20, cost: 2.349703788757324\n",
            "Epoch : 18 / 20, cost: 2.3499538898468018\n",
            "Epoch : 19 / 20, cost: 2.3502907752990723\n",
            "Epoch : 20 / 20, cost: 2.3499515056610107\n"
          ]
        }
      ]
    },
    {
      "cell_type": "code",
      "source": [
        "import matplotlib.pyplot as plt\n",
        "import numpy as np\n",
        "epoch = range(epochs)\n",
        "plt.plot(epoch, train_avg_costs, 'r-')\n",
        "plt.plot(epoch, test_avg_costs, 'b-')\n",
        "plt.xlabel('Epoch')\n",
        "plt.ylabel('Loss')\n",
        "plt.legend(['train','test'])\n",
        "plt.show()"
      ],
      "metadata": {
        "colab": {
          "base_uri": "https://localhost:8080/",
          "height": 279
        },
        "id": "bc148BJlMIvw",
        "outputId": "05513424-35ab-4aa8-fdc5-ae34fd826c39"
      },
      "execution_count": 49,
      "outputs": [
        {
          "output_type": "display_data",
          "data": {
            "text/plain": [
              "<Figure size 432x288 with 1 Axes>"
            ],
            "image/png": "[encoded data removed]"
          },
          "metadata": {
            "needs_background": "light"
          }
        }
      ]
    },
    {
      "cell_type": "code",
      "source": [
        "sum(test_avg_costs)/len(test_dataloader)"
      ],
      "metadata": {
        "colab": {
          "base_uri": "https://localhost:8080/"
        },
        "id": "YsXV0zhqMIyI",
        "outputId": "10c0e667-345c-4beb-adcb-1d8679b84980"
      },
      "execution_count": 50,
      "outputs": [
        {
          "output_type": "execute_result",
          "data": {
            "text/plain": [
              "tensor(0.5935)"
            ]
          },
          "metadata": {},
          "execution_count": 50
        }
      ]
    }
  ]
}