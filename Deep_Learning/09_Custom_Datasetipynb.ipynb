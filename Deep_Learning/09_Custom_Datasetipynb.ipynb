{
  "nbformat": 4,
  "nbformat_minor": 0,
  "metadata": {
    "colab": {
      "provenance": [],
      "authorship_tag": "ABX9TyNrTw4wlA7dk1SBlhW+dZP7",
      "include_colab_link": true
    },
    "kernelspec": {
      "name": "python3",
      "display_name": "Python 3"
    },
    "language_info": {
      "name": "python"
    }
  },
  "cells": [
    {
      "cell_type": "markdown",
      "metadata": {
        "id": "view-in-github",
        "colab_type": "text"
      },
      "source": [
        "<a href=\"https://colab.research.google.com/github/2018007956/HYU/blob/main/Deep_Learning/09_Custom_Datasetipynb.ipynb\" target=\"_parent\"><img src=\"https://colab.research.google.com/assets/colab-badge.svg\" alt=\"Open In Colab\"/></a>"
      ]
    },
    {
      "cell_type": "markdown",
      "source": [
        "Dataset: Face Data\n",
        "https://pytorch.org/tutorials/beginner/data_loading_tutorial.html#dataset-class  \n",
        "얼굴 표정을 68개의 다른 점으로 표현한 데이터셋"
      ],
      "metadata": {
        "id": "mFsYqfUTqKj8"
      }
    },
    {
      "cell_type": "markdown",
      "source": [
        "코드 작성중"
      ],
      "metadata": {
        "id": "vxEyFpthtBS_"
      }
    },
    {
      "cell_type": "code",
      "execution_count": 1,
      "metadata": {
        "colab": {
          "base_uri": "https://localhost:8080/"
        },
        "id": "J_jhasCdk6WZ",
        "outputId": "e27c4c03-d8a3-4ac6-9bf5-d2fe678120af"
      },
      "outputs": [
        {
          "output_type": "stream",
          "name": "stdout",
          "text": [
            "Mounted at /content/drive\n"
          ]
        }
      ],
      "source": [
        "from google.colab import drive\n",
        "drive.mount('/content/drive')"
      ]
    },
    {
      "cell_type": "code",
      "source": [
        "path = 'drive/MyDrive/Colab Notebooks/data/faces'"
      ],
      "metadata": {
        "id": "vLFnHDzlpJhG"
      },
      "execution_count": null,
      "outputs": []
    },
    {
      "cell_type": "code",
      "source": [
        "landmarks_frame = pd.read_csv(path+'/face_landmarks.csv')\n",
        "\n",
        "n = 65\n",
        "img_name = landmarks_frame.iloc[n, 0]\n",
        "landmarks = landmarks_frame.iloc[n, 1:]\n",
        "landmarks = np.asarray(landmarks)\n",
        "landmarks = landmarks.astype('lfoat').reshape(-1,2)\n",
        "\n",
        "print('Image name: {}'.format(img_name))\n",
        "print('Landmarks shape: {}'.format(landmarks.shape))\n",
        "print('First 4 Landmarks: {}'.format(landmarks[:4]))"
      ],
      "metadata": {
        "id": "OAq2UTpppJiy"
      },
      "execution_count": null,
      "outputs": []
    },
    {
      "cell_type": "code",
      "source": [
        "class FaceLandmarksDataset(Dataset):\n",
        "\n",
        "  def __init__(self, csv_file, root_dir, transform=None):\n",
        "    self.landmarks_frame = pd.read_csv(csv_file)\n",
        "    self.root_dir = root_dir\n",
        "    self.transform = transform\n",
        "\n",
        "  def __len__(self):\n",
        "    return len(self.landmarks_frame)\n",
        "\n",
        "  def __getitem__(self, idx):\n",
        "    if torch.is_tensor(idx):\n",
        "      idx = idx.tolist()\n",
        "\n",
        "    '''~~~~~~~~~~'''"
      ],
      "metadata": {
        "id": "iPFaowaXpJrL"
      },
      "execution_count": null,
      "outputs": []
    },
    {
      "cell_type": "code",
      "source": [],
      "metadata": {
        "id": "TxJrYer0pJtm"
      },
      "execution_count": null,
      "outputs": []
    },
    {
      "cell_type": "code",
      "source": [],
      "metadata": {
        "id": "oiO_VGYgpJwL"
      },
      "execution_count": null,
      "outputs": []
    },
    {
      "cell_type": "code",
      "source": [],
      "metadata": {
        "id": "_MSjnfdppJzv"
      },
      "execution_count": null,
      "outputs": []
    },
    {
      "cell_type": "code",
      "source": [],
      "metadata": {
        "id": "EJaMnLoEpJ4r"
      },
      "execution_count": null,
      "outputs": []
    },
    {
      "cell_type": "code",
      "source": [],
      "metadata": {
        "id": "aEvv60b1pKAi"
      },
      "execution_count": null,
      "outputs": []
    },
    {
      "cell_type": "code",
      "source": [],
      "metadata": {
        "id": "h-SID-K4pKE4"
      },
      "execution_count": null,
      "outputs": []
    },
    {
      "cell_type": "code",
      "source": [],
      "metadata": {
        "id": "65kjKPHVpKMS"
      },
      "execution_count": null,
      "outputs": []
    },
    {
      "cell_type": "markdown",
      "source": [
        "- Custom dataset을 구축한 오픈 소스 예시: dali-e-1\n",
        "https://github.com/lucidrains/DALLE-pytorch/blob/fcd35de4571b50e2d051826514dafc0bd0c69d98/dalle_pytorch/loader.py#L10"
      ],
      "metadata": {
        "id": "8HcY9dw5pLM9"
      }
    }
  ]
}