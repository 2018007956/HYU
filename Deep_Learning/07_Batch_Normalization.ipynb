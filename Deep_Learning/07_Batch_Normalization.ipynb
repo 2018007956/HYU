{
  "nbformat": 4,
  "nbformat_minor": 0,
  "metadata": {
    "colab": {
      "provenance": [],
      "authorship_tag": "ABX9TyOBRHd94415LxFIvnLee8Ir",
      "include_colab_link": true
    },
    "kernelspec": {
      "name": "python3",
      "display_name": "Python 3"
    },
    "language_info": {
      "name": "python"
    }
  },
  "cells": [
    {
      "cell_type": "markdown",
      "metadata": {
        "id": "view-in-github",
        "colab_type": "text"
      },
      "source": [
        "<a href=\"https://colab.research.google.com/github/2018007956/HYU/blob/main/Deep_Learning/07_Batch_Normalization.ipynb\" target=\"_parent\"><img src=\"https://colab.research.google.com/assets/colab-badge.svg\" alt=\"Open In Colab\"/></a>"
      ]
    },
    {
      "cell_type": "markdown",
      "source": [
        "# Batch Normalization\n",
        "- (Internal) Covariate Shift\n",
        "  - Change in the distribution of network activations due to the change in network parameters during training\n",
        "  - Layer가 깊어질수록 covariate shift가 심해짐"
      ],
      "metadata": {
        "id": "FngyFMRJOJUb"
      }
    },
    {
      "cell_type": "code",
      "source": [
        "import torch\n",
        "import torch.nn as nn\n",
        "import torch.optim as optim\n",
        "import torchvision\n",
        "import torchvision.transforms as transforms\n",
        "torch.manual_seed(0)\n",
        "torch.cuda.manual_seed(0)\n",
        "torch.cuda.manual_seed_all(0)\n",
        "if torch.cuda.is_available():\n",
        "  device = torch.device('cuda')\n",
        "else:\n",
        "  device = torch.device('cpu')"
      ],
      "metadata": {
        "id": "Ku1B7ordOJfx"
      },
      "execution_count": 1,
      "outputs": []
    },
    {
      "cell_type": "code",
      "source": [
        "train_dataset = torchvision.datasets.CIFAR10(root='CIFAR10/',\n",
        "                                             train=True,\n",
        "                                             transform=transforms.ToTensor(),\n",
        "                                             download=True)\n",
        "test_dataset = torchvision.datasets.CIFAR10(root='CIFAR10/',\n",
        "                                             train=False,\n",
        "                                             transform=transforms.ToTensor(),\n",
        "                                             download=True)\n",
        "\n",
        "batch_size = 128\n",
        "train_dataloader = torch.utils.data.DataLoader(train_dataset, batch_size=batch_size, shuffle=True)\n",
        "test_dataloader = torch.utils.data.DataLoader(test_dataset, batch_size=batch_size)"
      ],
      "metadata": {
        "colab": {
          "base_uri": "https://localhost:8080/"
        },
        "id": "wm9RpcL0OJmc",
        "outputId": "cf41bb7f-2a4f-4207-f824-f6dbd0c44fae"
      },
      "execution_count": 2,
      "outputs": [
        {
          "output_type": "stream",
          "name": "stdout",
          "text": [
            "Downloading https://www.cs.toronto.edu/~kriz/cifar-10-python.tar.gz to CIFAR10/cifar-10-python.tar.gz\n"
          ]
        },
        {
          "output_type": "stream",
          "name": "stderr",
          "text": [
            "100%|██████████| 170498071/170498071 [00:06<00:00, 27620314.58it/s]\n"
          ]
        },
        {
          "output_type": "stream",
          "name": "stdout",
          "text": [
            "Extracting CIFAR10/cifar-10-python.tar.gz to CIFAR10/\n",
            "Files already downloaded and verified\n"
          ]
        }
      ]
    },
    {
      "cell_type": "code",
      "source": [
        "class Model(nn.Module):\n",
        "  def __init__(self, drop_prob):\n",
        "    super(Model, self).__init__()\n",
        "    self.linear1 = nn.Linear(32*32*3, 256)\n",
        "    self.linear2 = nn.Linear(256, 128)\n",
        "    self.linear3 = nn.Linear(128, 10)\n",
        "    self.dropout = nn.Dropout(drop_prob)\n",
        "    self.activation = nn.Sigmoid()\n",
        "\n",
        "    self.bn1 = nn.BatchNorm1d(256)\n",
        "    self.bn2 = nn.BatchNorm1d(128)\n",
        "\n",
        "  def forward(self, x):\n",
        "    z1 = self.linear1(x)\n",
        "    z1 = self.bn1(z1) # activation 이전에 사용\n",
        "    a1 = self.activation(z1)\n",
        "    a1 = self.dropout(a1)\n",
        "\n",
        "    z2 = self.linear2(a1)\n",
        "    z2 = self.bn2(z2)\n",
        "    a2 = self.activation(z2)\n",
        "    a2 = self.dropout(a2)\n",
        "\n",
        "    z3 = self.linear3(a2)\n",
        "\n",
        "    return z3"
      ],
      "metadata": {
        "id": "MNUpdL__OcwX"
      },
      "execution_count": 4,
      "outputs": []
    },
    {
      "cell_type": "code",
      "source": [
        "model = Model(0.1).to(device).train()"
      ],
      "metadata": {
        "id": "lKM6sb6oOcy2"
      },
      "execution_count": 15,
      "outputs": []
    },
    {
      "cell_type": "code",
      "source": [
        "optimizer = optim.Adam(params=model.parameters(), lr=1e-3, betas=(0.9, 0.999))"
      ],
      "metadata": {
        "id": "99PAl_7oOc1i"
      },
      "execution_count": 16,
      "outputs": []
    },
    {
      "cell_type": "code",
      "source": [
        "criterion = nn.CrossEntropyLoss()"
      ],
      "metadata": {
        "id": "lqzYc39AOc3f"
      },
      "execution_count": 17,
      "outputs": []
    },
    {
      "cell_type": "code",
      "source": [
        "epochs = 30\n",
        "lmbd = 0.003\n",
        "\n",
        "train_avg_costs = []\n",
        "test_avg_costs = []\n",
        "\n",
        "test_total_batch = len(test_dataloader)\n",
        "total_batch_num = len(train_dataloader)\n",
        "\n",
        "for epoch in range(epochs):\n",
        "  avg_cost = 0\n",
        "  model.train()\n",
        "  for b_x, b_y in train_dataloader:\n",
        "    b_x = b_x.view(-1, 32*32*3).to(device)\n",
        "    logits = model(b_x) # forward propagation\n",
        "    loss = criterion(logits, b_y.to(device)) # get cost\n",
        "\n",
        "    # L2 Regularization\n",
        "    reg = model.linear1.weight.pow(2.0).sum()\n",
        "    reg += model.linear2.weight.pow(2.0).sum()\n",
        "    reg += model.linear3.weight.pow(2.0).sum()\n",
        "    loss += lmbd*reg/len(b_x)/2.\n",
        "\n",
        "    optimizer.zero_grad()\n",
        "    loss.backward() # backward propagation\n",
        "    optimizer.step() # update parameters\n",
        "\n",
        "    avg_cost += loss/total_batch_num\n",
        "  train_avg_costs.append(avg_cost.detach().cpu())\n",
        "  print('Epoch : {} / {}, cost: {}'.format(epoch+1, epochs, avg_cost))\n",
        "\n",
        "  test_avg_cost=0\n",
        "  model.eval()\n",
        "  for b_x, b_y in test_dataloader:\n",
        "    b_x = b_x.view(-1, 32*32*3).to(device)\n",
        "    with torch.no_grad():\n",
        "      logits = model(b_x)\n",
        "      test_loss = criterion(logits, b_y.to(device)) # get cost \n",
        "    test_avg_cost += test_loss / test_total_batch \n",
        "\n",
        "  test_avg_costs.append(test_avg_cost.detach().cpu())"
      ],
      "metadata": {
        "colab": {
          "base_uri": "https://localhost:8080/"
        },
        "id": "csbVBml_Pbsn",
        "outputId": "08f8c57d-8fab-4b2e-eaf8-31afe937294f"
      },
      "execution_count": 18,
      "outputs": [
        {
          "output_type": "stream",
          "name": "stdout",
          "text": [
            "Epoch : 1 / 30, cost: 1.8547362089157104\n",
            "Epoch : 2 / 30, cost: 1.7423920631408691\n",
            "Epoch : 3 / 30, cost: 1.6902241706848145\n",
            "Epoch : 4 / 30, cost: 1.6435089111328125\n",
            "Epoch : 5 / 30, cost: 1.5847588777542114\n",
            "Epoch : 6 / 30, cost: 1.5356863737106323\n",
            "Epoch : 7 / 30, cost: 1.4904696941375732\n",
            "Epoch : 8 / 30, cost: 1.4590024948120117\n",
            "Epoch : 9 / 30, cost: 1.4265364408493042\n",
            "Epoch : 10 / 30, cost: 1.396658182144165\n",
            "Epoch : 11 / 30, cost: 1.3713356256484985\n",
            "Epoch : 12 / 30, cost: 1.3447872400283813\n",
            "Epoch : 13 / 30, cost: 1.3244763612747192\n",
            "Epoch : 14 / 30, cost: 1.303996205329895\n",
            "Epoch : 15 / 30, cost: 1.2863011360168457\n",
            "Epoch : 16 / 30, cost: 1.2628982067108154\n",
            "Epoch : 17 / 30, cost: 1.2480438947677612\n",
            "Epoch : 18 / 30, cost: 1.2319601774215698\n",
            "Epoch : 19 / 30, cost: 1.2103482484817505\n",
            "Epoch : 20 / 30, cost: 1.2001794576644897\n",
            "Epoch : 21 / 30, cost: 1.1810221672058105\n",
            "Epoch : 22 / 30, cost: 1.1680324077606201\n",
            "Epoch : 23 / 30, cost: 1.1496630907058716\n",
            "Epoch : 24 / 30, cost: 1.1327874660491943\n",
            "Epoch : 25 / 30, cost: 1.1202284097671509\n",
            "Epoch : 26 / 30, cost: 1.10366690158844\n",
            "Epoch : 27 / 30, cost: 1.0947930812835693\n",
            "Epoch : 28 / 30, cost: 1.0782467126846313\n",
            "Epoch : 29 / 30, cost: 1.0649235248565674\n",
            "Epoch : 30 / 30, cost: 1.0551910400390625\n"
          ]
        }
      ]
    },
    {
      "cell_type": "code",
      "source": [
        "train_avg_costs = [a.cpu() for a in train_avg_costs]\n",
        "test_avg_costs = [a.cpu() for a in test_avg_costs]"
      ],
      "metadata": {
        "id": "OStfkzSPPbp6"
      },
      "execution_count": 19,
      "outputs": []
    },
    {
      "cell_type": "code",
      "source": [
        "import matplotlib.pyplot as plt\n",
        "import numpy as np\n",
        "epoch = range(epochs)\n",
        "plt.plot(epoch, train_avg_costs, 'r-')\n",
        "plt.plot(epoch, test_avg_costs, 'b-')\n",
        "plt.xlabel('Epoch')\n",
        "plt.ylabel('Loss')\n",
        "plt.legend(['train','test'])\n",
        "plt.show()"
      ],
      "metadata": {
        "colab": {
          "base_uri": "https://localhost:8080/",
          "height": 449
        },
        "id": "rqN6cgC7Pbnq",
        "outputId": "41a9a145-d387-47c4-ebea-46d1d14716c7"
      },
      "execution_count": 20,
      "outputs": [
        {
          "output_type": "display_data",
          "data": {
            "text/plain": [
              "<Figure size 640x480 with 1 Axes>"
            ],
            "image/png": "[encoded data removed]"
          },
          "metadata": {}
        }
      ]
    },
    {
      "cell_type": "code",
      "source": [
        "# Test set accuracy\n",
        "from sklearn.metrics import accuracy_score\n",
        "\n",
        "correct = 0\n",
        "total = 0\n",
        "\n",
        "model.eval()\n",
        "for b_x, b_y in test_dataloader:\n",
        "  b_x = b_x.view(-1, 32*32*3).to(device)\n",
        "  \n",
        "  with torch.no_grad():\n",
        "    logits = model(b_x)\n",
        "  probs = nn.Softmax(dim=1)(logits)\n",
        "  \n",
        "  predicts = torch.argmax(logits, dim=1)\n",
        "\n",
        "  total += len(b_y)\n",
        "  correct += (predicts == b_y.to(device)).sum().item()\n",
        "  # -> accuracy_score(b_y, logits)랑 같은지 확인\n",
        "  # total == len(test_dataloader) 맞는지 확인\n",
        "\n",
        "print(f'Accuracy of the network on test images: {100 * correct / total} %')"
      ],
      "metadata": {
        "colab": {
          "base_uri": "https://localhost:8080/"
        },
        "id": "HIwQjIJlPblc",
        "outputId": "2c31640a-01b3-411e-cf02-de174b5d6dcc"
      },
      "execution_count": 21,
      "outputs": [
        {
          "output_type": "stream",
          "name": "stdout",
          "text": [
            "Accuracy of the network on test images: 52.59 %\n"
          ]
        }
      ]
    }
  ]
}