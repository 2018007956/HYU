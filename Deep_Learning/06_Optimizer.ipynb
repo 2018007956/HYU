{
  "nbformat": 4,
  "nbformat_minor": 0,
  "metadata": {
    "colab": {
      "provenance": [],
      "authorship_tag": "ABX9TyO5DkkpRI2HVFlsCTB0eD0V",
      "include_colab_link": true
    },
    "kernelspec": {
      "name": "python3",
      "display_name": "Python 3"
    },
    "language_info": {
      "name": "python"
    }
  },
  "cells": [
    {
      "cell_type": "markdown",
      "metadata": {
        "id": "view-in-github",
        "colab_type": "text"
      },
      "source": [
        "<a href=\"https://colab.research.google.com/github/2018007956/HYU/blob/main/Deep_Learning/06_Optimizer.ipynb\" target=\"_parent\"><img src=\"https://colab.research.google.com/assets/colab-badge.svg\" alt=\"Open In Colab\"/></a>"
      ]
    },
    {
      "cell_type": "markdown",
      "source": [
        "- Tensor의 Gradient 계산방식\n",
        "- Optimizers"
      ],
      "metadata": {
        "id": "-z-HJrBhIPvC"
      }
    },
    {
      "cell_type": "markdown",
      "source": [
        "#1. Tensor의 Gradient\n",
        "gradient 계산: tensor.grad, loss.backward()  \n",
        "Ex) a,b:data, Q:loss"
      ],
      "metadata": {
        "id": "vrPFKEmXIYnq"
      }
    },
    {
      "cell_type": "code",
      "source": [
        "import torch \n",
        "\n",
        "a = torch.tensor([2.], requires_grad=True)\n",
        "b = torch.tensor([6.], requires_grad=True)"
      ],
      "metadata": {
        "id": "fZa6m6e6IP5n"
      },
      "execution_count": 1,
      "outputs": []
    },
    {
      "cell_type": "code",
      "source": [
        "Q = 3*a**3-b**2\n",
        "Q"
      ],
      "metadata": {
        "colab": {
          "base_uri": "https://localhost:8080/"
        },
        "id": "7LuaFHWxIQKV",
        "outputId": "b0ccce4e-dc57-488a-e83d-58e496177725"
      },
      "execution_count": 2,
      "outputs": [
        {
          "output_type": "execute_result",
          "data": {
            "text/plain": [
              "tensor([-12.], grad_fn=<SubBackward0>)"
            ]
          },
          "metadata": {},
          "execution_count": 2
        }
      ]
    },
    {
      "cell_type": "markdown",
      "source": [
        "Loss backward를 하면 tensor.grad로 각 텐서의 gradient값이 저장된다.  \n",
        "-> torch.autograd라는 모듈이 해줌"
      ],
      "metadata": {
        "id": "Q8hDm2p0IwTD"
      }
    },
    {
      "cell_type": "code",
      "source": [
        "print(a.grad)\n",
        "print(b.grad)"
      ],
      "metadata": {
        "colab": {
          "base_uri": "https://localhost:8080/"
        },
        "id": "arvQU3RrIQZH",
        "outputId": "2b0d03b6-8d3e-4042-a639-91bdef5b00f3"
      },
      "execution_count": 3,
      "outputs": [
        {
          "output_type": "stream",
          "name": "stdout",
          "text": [
            "None\n",
            "None\n"
          ]
        }
      ]
    },
    {
      "cell_type": "code",
      "source": [
        "Q.backward()"
      ],
      "metadata": {
        "id": "8hd--P0MIQnE"
      },
      "execution_count": 4,
      "outputs": []
    },
    {
      "cell_type": "code",
      "source": [
        "print(a.grad)\n",
        "print(b.grad)"
      ],
      "metadata": {
        "colab": {
          "base_uri": "https://localhost:8080/"
        },
        "id": "nn8JzENVIQ2g",
        "outputId": "6db507c3-36bc-44ad-cd81-de7d89348dde"
      },
      "execution_count": 5,
      "outputs": [
        {
          "output_type": "stream",
          "name": "stdout",
          "text": [
            "tensor([36.])\n",
            "tensor([-12.])\n"
          ]
        }
      ]
    },
    {
      "cell_type": "markdown",
      "source": [
        "## How does PyTorch optimizer work?\n",
        "torch.autograd: PyTorch's automatic differentiation engine  \n",
        "- logits = model(input) # Forward  \n",
        "  Computational Graph 생성 (DAG), grad_fn 저장\n",
        "- loss.backward() # Backward  \n",
        "  Graph의 grad_fn으로 gradient 계산\n",
        "  각 Tensor.grad에 gradient 저장\n",
        "- optimizer.step()  \n",
        "  각 Tensor.grad에 저장된 gradient와 learning rate로 Tensor값 update"
      ],
      "metadata": {
        "id": "rtr1hQuXMgvy"
      }
    },
    {
      "cell_type": "markdown",
      "source": [
        "#2. Optimizer"
      ],
      "metadata": {
        "id": "ZWJdoK0fNsuX"
      }
    },
    {
      "cell_type": "markdown",
      "source": [
        "- Gradient Descent (GD)  \n",
        "- Stochastic Gradient Descent (SGD)  \n",
        "- Momentum  \n",
        "- Adagrad (Adaptive Gradient)  \n",
        "- RMSProp\n",
        "- Adaptive Moment Estimation (Adam)"
      ],
      "metadata": {
        "id": "acQPLbYwNwrU"
      }
    },
    {
      "cell_type": "code",
      "source": [
        "import torch\n",
        "import torch.nn as nn\n",
        "import torch.optim as optim"
      ],
      "metadata": {
        "id": "nYIZqv8oPub2"
      },
      "execution_count": 7,
      "outputs": []
    },
    {
      "cell_type": "code",
      "source": [
        "torch.manual_seed(0)\n",
        "torch.cuda.manual_seed(0)\n",
        "torch.cuda.manual_seed_all(0)"
      ],
      "metadata": {
        "id": "Upe8AKaFMeJE"
      },
      "execution_count": 8,
      "outputs": []
    },
    {
      "cell_type": "code",
      "source": [
        "if torch.cuda.is_available():\n",
        "  device = torch.device('cuda')\n",
        "else:\n",
        "  device = torch.device('cpu')"
      ],
      "metadata": {
        "id": "l9EvKwxSPVFS"
      },
      "execution_count": 9,
      "outputs": []
    },
    {
      "cell_type": "code",
      "source": [
        "import torchvision\n",
        "import torchvision.transforms as transforms\n",
        "\n",
        "train_dataset = torchvision.datasets.CIFAR10(root='CIFAR10/',\n",
        "                                             train=True,\n",
        "                                             transform=transforms.ToTensor(),\n",
        "                                             download=True)\n",
        "test_dataset = torchvision.datasets.CIFAR10(root='CIFAR10/',\n",
        "                                             train=False,\n",
        "                                             transform=transforms.ToTensor(),\n",
        "                                             download=True)"
      ],
      "metadata": {
        "colab": {
          "base_uri": "https://localhost:8080/"
        },
        "id": "Yx4NcaB6PSOe",
        "outputId": "cffcb947-bffa-4b22-f6d7-83338c53b0d4"
      },
      "execution_count": 10,
      "outputs": [
        {
          "output_type": "stream",
          "name": "stdout",
          "text": [
            "Downloading https://www.cs.toronto.edu/~kriz/cifar-10-python.tar.gz to CIFAR10/cifar-10-python.tar.gz\n"
          ]
        },
        {
          "output_type": "stream",
          "name": "stderr",
          "text": [
            "100%|██████████| 170498071/170498071 [00:05<00:00, 29029109.83it/s]\n"
          ]
        },
        {
          "output_type": "stream",
          "name": "stdout",
          "text": [
            "Extracting CIFAR10/cifar-10-python.tar.gz to CIFAR10/\n",
            "Files already downloaded and verified\n"
          ]
        }
      ]
    },
    {
      "cell_type": "code",
      "source": [
        "batch_size = 128\n",
        "\n",
        "train_dataloader = torch.utils.data.DataLoader(train_dataset, batch_size=batch_size, shuffle=True)\n",
        "test_dataloader = torch.utils.data.DataLoader(test_dataset, batch_size=batch_size)"
      ],
      "metadata": {
        "id": "F-01iqY8PVIC"
      },
      "execution_count": 11,
      "outputs": []
    },
    {
      "cell_type": "code",
      "source": [
        "class Model(nn.Module):\n",
        "  def __init__(self):\n",
        "    super(Model, self).__init__()\n",
        "    self.linear1 = nn.Linear(32*32*3, 256)\n",
        "    self.linear2 = nn.Linear(256, 128)\n",
        "    self.linear3 = nn.Linear(128, 10)\n",
        "\n",
        "    self.activation = nn.Sigmoid()\n",
        "\n",
        "  def forward(self, x):\n",
        "    z1 = self.linear1(x)\n",
        "    a1 = self.activation(z1)\n",
        "\n",
        "    z2 = self.linear2(a1)\n",
        "    a2 = self.activation(z2)\n",
        "\n",
        "    z3 = self.linear3(a2)\n",
        "\n",
        "    return z3"
      ],
      "metadata": {
        "id": "sJM7rWVaPXNB"
      },
      "execution_count": 12,
      "outputs": []
    },
    {
      "cell_type": "code",
      "source": [
        "model = Model().to(device).train()"
      ],
      "metadata": {
        "id": "igo2wOOwPXRo"
      },
      "execution_count": 13,
      "outputs": []
    },
    {
      "cell_type": "code",
      "source": [
        "# optimizer = optim.SGD(params=model.parameters(), lr=1e-3) # GD\n",
        "# optimizer = optim.SGD(params=model.parameters(), lr=1e-3, momentum=0.9) # Momentum\n",
        "# optimizer = optim.Adagrad(params=model.parameters(), lr=1e-3) # Adagrad(Adaptive Gradient)\n",
        "# optimizer = optim.RMSprop(params=model.parameters(), lr=1e-3, alpha=0.99) #RMSProp\n",
        "optimizer = optim.Adam(params=model.parameters(), lr=1e-3, betas=(0.9, 0.999)) # Adaptive Moment Estimation (Adam)"
      ],
      "metadata": {
        "id": "HehOvBz0PXpY"
      },
      "execution_count": 17,
      "outputs": []
    },
    {
      "cell_type": "code",
      "source": [
        "criterion = nn.CrossEntropyLoss()"
      ],
      "metadata": {
        "id": "qv5o3NdhPX3f"
      },
      "execution_count": 18,
      "outputs": []
    },
    {
      "cell_type": "code",
      "source": [
        "epochs = 30\n",
        "lmbd = 0.003\n",
        "\n",
        "train_avg_costs = []\n",
        "test_avg_costs = []\n",
        "\n",
        "test_total_batch = len(test_dataloader)\n",
        "total_batch_num = len(train_dataloader)\n",
        "\n",
        "for epoch in range(epochs):\n",
        "  avg_cost = 0\n",
        "  model.train()\n",
        "  for b_x, b_y in train_dataloader:\n",
        "    b_x = b_x.view(-1, 32*32*3).to(device)\n",
        "    logits = model(b_x) # forward propagation\n",
        "    loss = criterion(logits, b_y.to(device)) # get cost\n",
        "\n",
        "    # L2 Regularization\n",
        "    reg = model.linear1.weight.pow(2.0).sum()\n",
        "    reg += model.linear2.weight.pow(2.0).sum()\n",
        "    reg += model.linear3.weight.pow(2.0).sum()\n",
        "    loss += lmbd*reg/len(b_x)/2.\n",
        "\n",
        "    optimizer.zero_grad()\n",
        "    loss.backward() # backward propagation\n",
        "    optimizer.step() # update parameters\n",
        "\n",
        "    avg_cost += loss/total_batch_num\n",
        "  train_avg_costs.append(avg_cost.detach().cpu())\n",
        "  print('Epoch : {} / {}, cost: {}'.format(epoch+1, epochs, avg_cost))\n",
        "\n",
        "  test_avg_cost=0\n",
        "  model.eval()\n",
        "  for b_x, b_y in test_dataloader:\n",
        "    b_x = b_x.view(-1, 32*32*3).to(device)\n",
        "    with torch.no_grad():\n",
        "      logits = model(b_x)\n",
        "      test_loss = criterion(logits, b_y.to(device)) # get cost \n",
        "    test_avg_cost += test_loss / test_total_batch \n",
        "\n",
        "  test_avg_costs.append(test_avg_cost.detach().cpu())"
      ],
      "metadata": {
        "colab": {
          "base_uri": "https://localhost:8080/"
        },
        "id": "sh1279zMPYQw",
        "outputId": "d21ece2f-53a1-45f2-c889-90520128aa0b"
      },
      "execution_count": 19,
      "outputs": [
        {
          "output_type": "stream",
          "name": "stdout",
          "text": [
            "Epoch : 1 / 30, cost: 1.9528982639312744\n",
            "Epoch : 2 / 30, cost: 1.7576435804367065\n",
            "Epoch : 3 / 30, cost: 1.68436598777771\n",
            "Epoch : 4 / 30, cost: 1.6232815980911255\n",
            "Epoch : 5 / 30, cost: 1.5917290449142456\n",
            "Epoch : 6 / 30, cost: 1.5540589094161987\n",
            "Epoch : 7 / 30, cost: 1.5262577533721924\n",
            "Epoch : 8 / 30, cost: 1.498754858970642\n",
            "Epoch : 9 / 30, cost: 1.4849998950958252\n",
            "Epoch : 10 / 30, cost: 1.4577566385269165\n",
            "Epoch : 11 / 30, cost: 1.4443538188934326\n",
            "Epoch : 12 / 30, cost: 1.4258406162261963\n",
            "Epoch : 13 / 30, cost: 1.411635398864746\n",
            "Epoch : 14 / 30, cost: 1.3957288265228271\n",
            "Epoch : 15 / 30, cost: 1.3808066844940186\n",
            "Epoch : 16 / 30, cost: 1.3722877502441406\n",
            "Epoch : 17 / 30, cost: 1.355955719947815\n",
            "Epoch : 18 / 30, cost: 1.343945860862732\n",
            "Epoch : 19 / 30, cost: 1.3404145240783691\n",
            "Epoch : 20 / 30, cost: 1.3259721994400024\n",
            "Epoch : 21 / 30, cost: 1.31575345993042\n",
            "Epoch : 22 / 30, cost: 1.3116672039031982\n",
            "Epoch : 23 / 30, cost: 1.2986242771148682\n",
            "Epoch : 24 / 30, cost: 1.2918165922164917\n",
            "Epoch : 25 / 30, cost: 1.278766393661499\n",
            "Epoch : 26 / 30, cost: 1.2742005586624146\n",
            "Epoch : 27 / 30, cost: 1.2621705532073975\n",
            "Epoch : 28 / 30, cost: 1.2552562952041626\n",
            "Epoch : 29 / 30, cost: 1.2448264360427856\n",
            "Epoch : 30 / 30, cost: 1.242415428161621\n"
          ]
        }
      ]
    },
    {
      "cell_type": "code",
      "source": [
        "train_avg_costs = [a.cpu() for a in train_avg_costs]\n",
        "test_avg_costs = [a.cpu() for a in test_avg_costs]"
      ],
      "metadata": {
        "id": "HcnH0pJSPhxH"
      },
      "execution_count": 20,
      "outputs": []
    },
    {
      "cell_type": "code",
      "source": [
        "import matplotlib.pyplot as plt\n",
        "import numpy as np\n",
        "epoch = range(epochs)\n",
        "plt.plot(epoch, train_avg_costs, 'r-')\n",
        "plt.plot(epoch, test_avg_costs, 'b-')\n",
        "plt.xlabel('Epoch')\n",
        "plt.ylabel('Loss')\n",
        "plt.legend(['train','test'])\n",
        "plt.show()"
      ],
      "metadata": {
        "colab": {
          "base_uri": "https://localhost:8080/",
          "height": 449
        },
        "id": "VQIXBinWPh0P",
        "outputId": "fc9bf2d4-65fc-4017-c134-0770c022bc4b"
      },
      "execution_count": 21,
      "outputs": [
        {
          "output_type": "display_data",
          "data": {
            "text/plain": [
              "<Figure size 640x480 with 1 Axes>"
            ],
            "image/png": "[encoded data removed]"
          },
          "metadata": {}
        }
      ]
    },
    {
      "cell_type": "code",
      "source": [
        "# Test set accuracy\n",
        "from sklearn.metrics import accuracy_score\n",
        "\n",
        "correct = 0\n",
        "total = 0\n",
        "\n",
        "model.eval()\n",
        "for b_x, b_y in test_dataloader:\n",
        "  b_x = b_x.view(-1, 32*32*3).to(device)\n",
        "  \n",
        "  with torch.no_grad():\n",
        "    logits = model(b_x)\n",
        "  probs = nn.Softmax(dim=1)(logits)\n",
        "  \n",
        "  predicts = torch.argmax(logits, dim=1)\n",
        "\n",
        "  total += len(b_y)\n",
        "  correct += (predicts == b_y.to(device)).sum().item()\n",
        "  # -> accuracy_score(b_y, logits)랑 같은지 확인\n",
        "  # total == len(test_dataloader) 맞는지 확인\n",
        "\n",
        "print(f'Accuracy of the network on test images: {100 * correct / total} %')"
      ],
      "metadata": {
        "colab": {
          "base_uri": "https://localhost:8080/"
        },
        "id": "BqIrqyIjPo3z",
        "outputId": "5341558e-aa37-41b8-d6d0-a03c1fdf4b62"
      },
      "execution_count": 22,
      "outputs": [
        {
          "output_type": "stream",
          "name": "stdout",
          "text": [
            "Accuracy of the network on test images: 50.73 %\n"
          ]
        }
      ]
    }
  ]
}