{
  "nbformat": 4,
  "nbformat_minor": 0,
  "metadata": {
    "colab": {
      "provenance": [],
      "authorship_tag": "ABX9TyPm/q+L3hJTTIktwoznNgzL",
      "include_colab_link": true
    },
    "kernelspec": {
      "name": "python3",
      "display_name": "Python 3"
    },
    "language_info": {
      "name": "python"
    }
  },
  "cells": [
    {
      "cell_type": "markdown",
      "metadata": {
        "id": "view-in-github",
        "colab_type": "text"
      },
      "source": [
        "<a href=\"https://colab.research.google.com/github/2018007956/HYU/blob/main/Deep_Learning/12_GAN.ipynb\" target=\"_parent\"><img src=\"https://colab.research.google.com/assets/colab-badge.svg\" alt=\"Open In Colab\"/></a>"
      ]
    },
    {
      "cell_type": "code",
      "execution_count": null,
      "metadata": {
        "id": "-qsak73re_c5"
      },
      "outputs": [],
      "source": [
        "!pip install -q wandb\n",
        "import wandb\n",
        "wandb.login()"
      ]
    },
    {
      "cell_type": "code",
      "source": [
        "lr = 0.0002\n",
        "batch_size = 128\n",
        "config = {\n",
        "    \"dataset\": \"MNIST\",\n",
        "    \"gpu\": \"colab\",\n",
        "    \"model\": \"GAN\",\n",
        "    \"learning_rate\": lr,\n",
        "    \"batch_size\": batch_size,\n",
        "}\n",
        "wandb.init(project=\"week13_gan\", config=config)\n",
        "wandb.run.name = \"mnist gan\""
      ],
      "metadata": {
        "id": "oCv1temofKCz"
      },
      "execution_count": null,
      "outputs": []
    },
    {
      "cell_type": "code",
      "source": [
        "import torch\n",
        "import torch.nn as nn\n",
        "import torch.optim as optim\n",
        "import numpy as np\n",
        "\n",
        "torch.manual_seed(0)\n",
        "torch.cuda.manual_seed(0)\n",
        "torch.cuda.manual_seed_all(0)\n",
        "\n",
        "if torch.cuda.is_available():\n",
        "  device = torch.device('cuda')\n",
        "else:\n",
        "  device = torch.device('cpu')"
      ],
      "metadata": {
        "id": "MHVOKP1rfKGE"
      },
      "execution_count": null,
      "outputs": []
    },
    {
      "cell_type": "code",
      "source": [
        "import torchvision\n",
        "import torchvision.transforms as transforms\n",
        "transform = transforms.Compose([\n",
        "    transforms.ToTensor(),\n",
        "    transforms.Normalize((0.5),(0.5))\n",
        "])\n",
        "train_dataset = torchvision.datasets.MNIST(root='MNIST_data/',\n",
        "                                             train=True,\n",
        "                                             transform=transforms.ToTensor(),\n",
        "                                             download=True)\n",
        "\n",
        "train_dataloader = torch.utils.data.DataLoader(train_dataset, batch_size=batch_size, shuffle=True)"
      ],
      "metadata": {
        "id": "b0KlLjgYfKKB"
      },
      "execution_count": null,
      "outputs": []
    },
    {
      "cell_type": "code",
      "source": [
        "class Generator(nn.Module):\n",
        "  def __init__(self):\n",
        "    super(Generator, self).__init__()\n",
        "    self.fc1 = nn.Linear(100,256)\n",
        "    self.fc2 = nn.Linear(256,512)\n",
        "    self.fc3 = nn.Linear(512,1024)\n",
        "    self.fc4 = nn.Linear(1024,784)\n",
        "    self.leakyrelu = nn.LeakyReLU(0.2)\n",
        "    self.tanh = nn.Tanh()\n",
        "\n",
        "  def forward(self, z):\n",
        "    x = self.fc1(z)\n",
        "    x = self.leakyrelu(x)\n",
        "\n",
        "    x = self.fc2(x)\n",
        "    x = self.leakyrelu(x)\n",
        "\n",
        "    x = self.fc2(x)\n",
        "    x = self.leakyrelu(x)\n",
        "\n",
        "    x = self.fc4(x)\n",
        "    x = self.tanh(x)\n",
        "\n",
        "    return x"
      ],
      "metadata": {
        "id": "baswyRvIfKM9"
      },
      "execution_count": null,
      "outputs": []
    },
    {
      "cell_type": "code",
      "source": [
        "class Discriminator(nn.Module):\n",
        "  def __init__(self):\n",
        "    super(Discriminator, self).__init__()\n",
        "    self.fc1 = nn.LInear(784,1024)\n",
        "    self.fc2 = nn.Linear(1024,512)\n",
        "    self.fc3 = nn.LInear(512,256)\n",
        "    self.fc4 = nn.Linear(256,1)\n",
        "    self.leakyrelu = nn.LeakyReLU(0.2)\n",
        "    self.dropout = nn.Dropout(0.3)\n",
        "    self.sigmoid = nn.Sigmoid()\n",
        "\n",
        "  def forward(self, x):\n",
        "    x = self.fc1(x)\n",
        "    x = self.leakyrelu(x)\n",
        "    x = self.dropout(x)\n",
        "\n",
        "    x = self.fc2(x)\n",
        "    x = self.leakyrelu(x)\n",
        "    x = self.dropout(x)\n",
        "\n",
        "    x = self.fc3(x)\n",
        "    x = self.leakyrelu(x)\n",
        "    x = self.dropout(x)\n",
        "\n",
        "    x = self.fc4(x)\n",
        "    x = self.sigmoid(x)\n",
        "\n",
        "    return x"
      ],
      "metadata": {
        "id": "hi-aUOgHfKPQ"
      },
      "execution_count": null,
      "outputs": []
    },
    {
      "cell_type": "code",
      "source": [
        "generator = Generator().to(device)\n",
        "discriminator = Didscriminator().to(device)"
      ],
      "metadata": {
        "id": "BWO4p71ffKST"
      },
      "execution_count": null,
      "outputs": []
    },
    {
      "cell_type": "code",
      "source": [
        "criterion = torch.nn.BCELoss()\n",
        "g_optimizer = torch.optim.Adam(generator.parameters(), lr=lr)\n",
        "d_optimizer = torch.optim.Adam(discriminator.parameters(), lr=lr)"
      ],
      "metadata": {
        "id": "RHAn2_DTfKU2"
      },
      "execution_count": null,
      "outputs": []
    },
    {
      "cell_type": "code",
      "source": [
        "epochs = 200\n",
        "total_batch_num = len(train_dataloader)\n",
        "\n",
        "for epoch in range(epochs):\n",
        "  generator.train()\n",
        "  discriminator.train()\n",
        "\n",
        "  avg_g_cost = 0\n",
        "  avg_d_cost = 0\n",
        "\n",
        "  for step, batch in enumerate(train_dataloader):\n",
        "    b_x, _ = batch\n",
        "    b_x = b_x.view(-1, 784).to(device)\n",
        "    num_img = len(b_x)\n",
        "    real_label = torch.ones((num_img,1)).to(device)\n",
        "    fake_label = torch.zeros((num_img,1)).to(device)\n",
        "\n",
        "    real_logit= discriminator(b_x)\n",
        "    d_real_loss = criterion(real_logit, real_label)\n",
        "\n",
        "    z = torch.randn((num_img, 100),requires_grad=False).to(device)\n",
        "    fake_data = generator(z)\n",
        "    fake_logit = discriminator(fake_data)\n",
        "    d_fake_loss = criterion(fake_logit, fake_label)\n",
        "\n",
        "    d_loss = d_real_loss + d_fake_loss\n",
        "    d_optimizer.zero_grad()\n",
        "    d_loss.backward()\n",
        "    d_optimizer.step()\n",
        "\n",
        "    z = torch.rand((num_img,100),requires_grad=False).to(device)\n",
        "    fake_data = generator(z)\n",
        "    fake_logit = discriminator(fake_data)\n",
        "    g_loss = criterion(fake_logit, real_label)\n",
        "\n",
        "    g_optimizer.zero_grad()\n",
        "    g_loss.backward()\n",
        "    g_optimizer.step()\n",
        "\n",
        "    avg_d_cost += d_loss\n",
        "    avg_g_cost += g_loss\n",
        "\n",
        "  avg_d_cost /= total_batch_num\n",
        "  avg_g_cost /= total_batch_num\n",
        "\n",
        "  # observe fake images\n",
        "  generator.eval()\n",
        "  with torch.no_grad():\n",
        "    z = torch.randn((64,100),requires_grad=False).to(device)\n",
        "    fake_data = generator(z)\n",
        "\n",
        "    fake_img = fake_data.detach().cpu().numpy().reshape(64,28,28)\n",
        "    wandb.log([\"discriminator loss\": avg_d_cost, \"generator loss\":avg_g_cost, \"fake image\":[wandb.Image(i) for i in fake_img]])"
      ],
      "metadata": {
        "id": "xrvle3GkfKXC"
      },
      "execution_count": null,
      "outputs": []
    },
    {
      "cell_type": "code",
      "source": [
        "!pip install -q pytorch_fid"
      ],
      "metadata": {
        "id": "UNL9756cnQO6"
      },
      "execution_count": null,
      "outputs": []
    },
    {
      "cell_type": "code",
      "source": [
        "!mkdir fake_img\n",
        "!mkdir real_img"
      ],
      "metadata": {
        "id": "m3IMgWIZmYHW"
      },
      "execution_count": null,
      "outputs": []
    },
    {
      "cell_type": "code",
      "source": [
        "# FID score 측정에 사용할 fake 이미지를 생성하는 코드\n",
        "# generator의 학습을 완료한 뒤 마지막에 실행하여 fake 이미지를 저장하기\n",
        "from PIL import Image\n",
        "\n",
        "num_img = 1000\n",
        "test_noise = torch.randn(num_img, 100, device=device)\n",
        "with torch.no_grad():\n",
        "  test_fake = generator(test_noise).detach().cpu().numpy()\n",
        "\n",
        "  for index, img in enumerate(test_fake):\n",
        "    fake = np.reshape(img, (28,28))\n",
        "    fake = (fake * 127.5 + 127.5).astype(np.uint8)\n",
        "    fake = np.expand_dims(fake,axis=2)\n",
        "    fake = np.repeat(fake,3,axis=2)\n",
        "    im = Image.fromarray(fake)\n",
        "    im.save(\"./fake_img/fake_sample{}.jpeg\".format(index))"
      ],
      "metadata": {
        "id": "5ndT4g7CmYLY"
      },
      "execution_count": null,
      "outputs": []
    },
    {
      "cell_type": "code",
      "source": [
        "for i in range(num_img):\n",
        "  real = np.reshape(train_dataset[i][0].detach().cpu().numpy(), (28,28))\n",
        "  real = (real * 127.5 + 127.5).astype(np.uint8)\n",
        "  real = np.expand_dims(real,axis=2)\n",
        "  real = np.repeat(real,3,axis=2)\n",
        "  im = Image.fromarray(real)\n",
        "  im.save(\"./real_img/real_sample{}.jpeg\".format(i))"
      ],
      "metadata": {
        "id": "iOFkZHOem9Co"
      },
      "execution_count": null,
      "outputs": []
    },
    {
      "cell_type": "code",
      "source": [
        "# calculate_fid_given_paths 사용해서 FID 계산\n",
        "import os\n",
        "import torch\n",
        "\n",
        "from pytorch_fid.fid_score import *\n",
        "\n",
        "os.environ[\"KMP_DUPLICATE_LIB_OK\"]='True'\n",
        "\n",
        "real_img_path = 'real_img/'\n",
        "fake_img_path = 'fake_img/'\n",
        "\n",
        "device = torch.device(\"cuda:0\" if torch.cuda.is_available() else \"cpu\")\n",
        "\n",
        "torch.manual_seed(0)\n",
        "torch.cuda.manual_seed(0)\n",
        "torch.cuda.manual_seed_all(0)\n",
        "\n",
        "if __name__==\"__main__\":\n",
        "  fid = calculate_fid_given_paths(\n",
        "      paths=[real_img_path, fake_img_path],\n",
        "      batch_size=128,\n",
        "      device=device,\n",
        "      dims=2048\n",
        "  )\n",
        "\n",
        "  print(\"fid score: {}\".format(fid))"
      ],
      "metadata": {
        "id": "_bdADzvjnlPA"
      },
      "execution_count": null,
      "outputs": []
    }
  ]
}