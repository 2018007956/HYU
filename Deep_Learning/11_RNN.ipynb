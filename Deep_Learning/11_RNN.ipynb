{
  "nbformat": 4,
  "nbformat_minor": 0,
  "metadata": {
    "colab": {
      "provenance": [],
      "gpuType": "T4",
      "authorship_tag": "ABX9TyP/qG99Ojt9PVxhGHXx3NRw",
      "include_colab_link": true
    },
    "kernelspec": {
      "name": "python3",
      "display_name": "Python 3"
    },
    "language_info": {
      "name": "python"
    },
    "accelerator": "GPU",
    "gpuClass": "standard"
  },
  "cells": [
    {
      "cell_type": "markdown",
      "metadata": {
        "id": "view-in-github",
        "colab_type": "text"
      },
      "source": [
        "<a href=\"https://colab.research.google.com/github/2018007956/HYU/blob/main/Deep_Learning/11_RNN.ipynb\" target=\"_parent\"><img src=\"https://colab.research.google.com/assets/colab-badge.svg\" alt=\"Open In Colab\"/></a>"
      ]
    },
    {
      "cell_type": "markdown",
      "source": [
        "## 1. RNN을 이용한 character prediction"
      ],
      "metadata": {
        "id": "OuUDs7y9l4VP"
      }
    },
    {
      "cell_type": "code",
      "source": [
        "import torch\n",
        "import torch.nn as nn\n",
        "import torch.optim as optim\n",
        "import numpy as np\n",
        "\n",
        "torch.manual_seed(0)\n",
        "torch.cuda.manual_seed(0)\n",
        "torch.cuda.manual_seed_all(0)\n",
        "\n",
        "if torch.cuda.is_available():\n",
        "  device = torch.device('cuda')\n",
        "else:\n",
        "  device = torch.device('cpu')"
      ],
      "metadata": {
        "id": "RduGbfjHl4lu"
      },
      "execution_count": 1,
      "outputs": []
    },
    {
      "cell_type": "code",
      "source": [
        "sentence = ' seoul is the capital of south korea'\n",
        "char_set = list(set(sentence))\n",
        "char_dic = {c:i for i,c in enumerate(char_set)}"
      ],
      "metadata": {
        "id": "avIyNMm-m1gZ"
      },
      "execution_count": 2,
      "outputs": []
    },
    {
      "cell_type": "code",
      "source": [
        "char_set"
      ],
      "metadata": {
        "colab": {
          "base_uri": "https://localhost:8080/"
        },
        "id": "mw_R7PZ6nj4I",
        "outputId": "45d9840b-15e4-473e-8b14-1732e6ec9046"
      },
      "execution_count": 3,
      "outputs": [
        {
          "output_type": "execute_result",
          "data": {
            "text/plain": [
              "[' ', 'l', 'p', 'a', 'u', 't', 'r', 'i', 'e', 'k', 'o', 's', 'h', 'f', 'c']"
            ]
          },
          "metadata": {},
          "execution_count": 3
        }
      ]
    },
    {
      "cell_type": "code",
      "source": [
        "char_dic"
      ],
      "metadata": {
        "colab": {
          "base_uri": "https://localhost:8080/"
        },
        "id": "DfB8JI00nVwK",
        "outputId": "db5f7f01-22a0-4d13-f0ae-73a3afb17c00"
      },
      "execution_count": 4,
      "outputs": [
        {
          "output_type": "execute_result",
          "data": {
            "text/plain": [
              "{' ': 0,\n",
              " 'l': 1,\n",
              " 'p': 2,\n",
              " 'a': 3,\n",
              " 'u': 4,\n",
              " 't': 5,\n",
              " 'r': 6,\n",
              " 'i': 7,\n",
              " 'e': 8,\n",
              " 'k': 9,\n",
              " 'o': 10,\n",
              " 's': 11,\n",
              " 'h': 12,\n",
              " 'f': 13,\n",
              " 'c': 14}"
            ]
          },
          "metadata": {},
          "execution_count": 4
        }
      ]
    },
    {
      "cell_type": "code",
      "source": [
        "vocab_sz = len(char_dic)\n",
        "hidden_sz = len(char_dic)\n",
        "input_sz = len(char_dic)"
      ],
      "metadata": {
        "id": "nXcezfgVm1kZ"
      },
      "execution_count": 5,
      "outputs": []
    },
    {
      "cell_type": "code",
      "source": [
        "'''\n",
        "Sentence의 character index로 변경\n",
        "input:\" seoul is the capital of south kore\"의 index input을 one hot vector로 변경\n",
        "target:\"seoul is the capital of south korea:\n",
        "'''\n",
        "sen_idx = [char_dic[c] for c in sentence]\n",
        "x_idx = sen_idx[:-1]\n",
        "x_one_hot = [[np.eye(vocab_sz)[x] for x in x_idx]]\n",
        "y_data = [sen_idx[1:]]"
      ],
      "metadata": {
        "id": "bPO2ouEXm1nG"
      },
      "execution_count": 6,
      "outputs": []
    },
    {
      "cell_type": "code",
      "source": [
        "print(sen_idx)\n",
        "print(x_idx)\n",
        "print(x_one_hot)\n",
        "print(y_data)"
      ],
      "metadata": {
        "colab": {
          "base_uri": "https://localhost:8080/"
        },
        "id": "YjT7NcnGpbOm",
        "outputId": "91f0d4a6-57a1-49de-926b-3da08847c83c"
      },
      "execution_count": 7,
      "outputs": [
        {
          "output_type": "stream",
          "name": "stdout",
          "text": [
            "[0, 11, 8, 10, 4, 1, 0, 7, 11, 0, 5, 12, 8, 0, 14, 3, 2, 7, 5, 3, 1, 0, 10, 13, 0, 11, 10, 4, 5, 12, 0, 9, 10, 6, 8, 3]\n",
            "[0, 11, 8, 10, 4, 1, 0, 7, 11, 0, 5, 12, 8, 0, 14, 3, 2, 7, 5, 3, 1, 0, 10, 13, 0, 11, 10, 4, 5, 12, 0, 9, 10, 6, 8]\n",
            "[[array([1., 0., 0., 0., 0., 0., 0., 0., 0., 0., 0., 0., 0., 0., 0.]), array([0., 0., 0., 0., 0., 0., 0., 0., 0., 0., 0., 1., 0., 0., 0.]), array([0., 0., 0., 0., 0., 0., 0., 0., 1., 0., 0., 0., 0., 0., 0.]), array([0., 0., 0., 0., 0., 0., 0., 0., 0., 0., 1., 0., 0., 0., 0.]), array([0., 0., 0., 0., 1., 0., 0., 0., 0., 0., 0., 0., 0., 0., 0.]), array([0., 1., 0., 0., 0., 0., 0., 0., 0., 0., 0., 0., 0., 0., 0.]), array([1., 0., 0., 0., 0., 0., 0., 0., 0., 0., 0., 0., 0., 0., 0.]), array([0., 0., 0., 0., 0., 0., 0., 1., 0., 0., 0., 0., 0., 0., 0.]), array([0., 0., 0., 0., 0., 0., 0., 0., 0., 0., 0., 1., 0., 0., 0.]), array([1., 0., 0., 0., 0., 0., 0., 0., 0., 0., 0., 0., 0., 0., 0.]), array([0., 0., 0., 0., 0., 1., 0., 0., 0., 0., 0., 0., 0., 0., 0.]), array([0., 0., 0., 0., 0., 0., 0., 0., 0., 0., 0., 0., 1., 0., 0.]), array([0., 0., 0., 0., 0., 0., 0., 0., 1., 0., 0., 0., 0., 0., 0.]), array([1., 0., 0., 0., 0., 0., 0., 0., 0., 0., 0., 0., 0., 0., 0.]), array([0., 0., 0., 0., 0., 0., 0., 0., 0., 0., 0., 0., 0., 0., 1.]), array([0., 0., 0., 1., 0., 0., 0., 0., 0., 0., 0., 0., 0., 0., 0.]), array([0., 0., 1., 0., 0., 0., 0., 0., 0., 0., 0., 0., 0., 0., 0.]), array([0., 0., 0., 0., 0., 0., 0., 1., 0., 0., 0., 0., 0., 0., 0.]), array([0., 0., 0., 0., 0., 1., 0., 0., 0., 0., 0., 0., 0., 0., 0.]), array([0., 0., 0., 1., 0., 0., 0., 0., 0., 0., 0., 0., 0., 0., 0.]), array([0., 1., 0., 0., 0., 0., 0., 0., 0., 0., 0., 0., 0., 0., 0.]), array([1., 0., 0., 0., 0., 0., 0., 0., 0., 0., 0., 0., 0., 0., 0.]), array([0., 0., 0., 0., 0., 0., 0., 0., 0., 0., 1., 0., 0., 0., 0.]), array([0., 0., 0., 0., 0., 0., 0., 0., 0., 0., 0., 0., 0., 1., 0.]), array([1., 0., 0., 0., 0., 0., 0., 0., 0., 0., 0., 0., 0., 0., 0.]), array([0., 0., 0., 0., 0., 0., 0., 0., 0., 0., 0., 1., 0., 0., 0.]), array([0., 0., 0., 0., 0., 0., 0., 0., 0., 0., 1., 0., 0., 0., 0.]), array([0., 0., 0., 0., 1., 0., 0., 0., 0., 0., 0., 0., 0., 0., 0.]), array([0., 0., 0., 0., 0., 1., 0., 0., 0., 0., 0., 0., 0., 0., 0.]), array([0., 0., 0., 0., 0., 0., 0., 0., 0., 0., 0., 0., 1., 0., 0.]), array([1., 0., 0., 0., 0., 0., 0., 0., 0., 0., 0., 0., 0., 0., 0.]), array([0., 0., 0., 0., 0., 0., 0., 0., 0., 1., 0., 0., 0., 0., 0.]), array([0., 0., 0., 0., 0., 0., 0., 0., 0., 0., 1., 0., 0., 0., 0.]), array([0., 0., 0., 0., 0., 0., 1., 0., 0., 0., 0., 0., 0., 0., 0.]), array([0., 0., 0., 0., 0., 0., 0., 0., 1., 0., 0., 0., 0., 0., 0.])]]\n",
            "[[11, 8, 10, 4, 1, 0, 7, 11, 0, 5, 12, 8, 0, 14, 3, 2, 7, 5, 3, 1, 0, 10, 13, 0, 11, 10, 4, 5, 12, 0, 9, 10, 6, 8, 3]]\n"
          ]
        }
      ]
    },
    {
      "cell_type": "code",
      "source": [
        "x_train = torch.FloatTensor(x_one_hot)\n",
        "y_train = torch.LongTensor(y_data)"
      ],
      "metadata": {
        "colab": {
          "base_uri": "https://localhost:8080/"
        },
        "id": "yvDJ8gYony6A",
        "outputId": "4a2d8af7-e001-4ffb-aad4-c54494d68af3"
      },
      "execution_count": 8,
      "outputs": [
        {
          "output_type": "stream",
          "name": "stderr",
          "text": [
            "<ipython-input-8-9278ed7c0bad>:1: UserWarning: Creating a tensor from a list of numpy.ndarrays is extremely slow. Please consider converting the list to a single numpy.ndarray with numpy.array() before converting to a tensor. (Triggered internally at ../torch/csrc/utils/tensor_new.cpp:245.)\n",
            "  x_train = torch.FloatTensor(x_one_hot)\n"
          ]
        }
      ]
    },
    {
      "cell_type": "code",
      "source": [
        "class Rnn(nn.Module):\n",
        "  def __init__(self, input_size, hidden_size, vocab_size):\n",
        "    super(Rnn, self).__init__()\n",
        "    self.input_size = input_size\n",
        "    self.hidden_size = hidden_size\n",
        "    self.vocab_size = vocab_size\n",
        "\n",
        "    self.rnn = nn.RNN(input_size=self.input_size, hidden_size=self.hidden_size, batch_first=True)\n",
        "    self.linear = nn.Linear(self.hidden_size, self.vocab_size)\n",
        "\n",
        "  def forward(self, x):\n",
        "    outputs, _ = self.rnn(x)\n",
        "    x = self.linear(outputs)\n",
        "\n",
        "    return x\n",
        "\n",
        "model = Rnn(input_size = input_sz, hidden_size=hidden_sz, vocab_size=vocab_sz).to(device)"
      ],
      "metadata": {
        "id": "iLZeQJi3q2Ir"
      },
      "execution_count": 9,
      "outputs": []
    },
    {
      "cell_type": "code",
      "source": [
        "criterion = torch.nn.CrossEntropyLoss()\n",
        "optimizer = torch.optim.Adam(model.parameters(), lr=1e-3)"
      ],
      "metadata": {
        "id": "eF7i7qR5r5Kq"
      },
      "execution_count": 10,
      "outputs": []
    },
    {
      "cell_type": "code",
      "source": [
        "epochs = 500\n",
        "\n",
        "for epoch in range(epochs):\n",
        "  model.train()\n",
        "\n",
        "  outputs = model(x_train.to(device)) # forward propagation\n",
        "  loss = criterion(outputs.view(-1, hidden_sz), y_train.view(-1).to(device))\n",
        "\n",
        "  optimizer.zero_grad()\n",
        "  loss.backward() # backward propagation\n",
        "  optimizer.step() # update parameters\n",
        "\n",
        "  result = outputs.data.cpu().numpy().argmax(axis=2)\n",
        "  result_str = ''.join([char_set[idx] for idx in np.squeeze(result)])\n",
        "\n",
        "  if epoch % 50 == 0 or epoch == epochs-1:\n",
        "    print('loss : {} prediction : {}'.format(loss, result_str))"
      ],
      "metadata": {
        "colab": {
          "base_uri": "https://localhost:8080/"
        },
        "id": "LF0hs1JZsHg6",
        "outputId": "1e86566e-a741-475e-d23e-b8ab02c8c3f9"
      },
      "execution_count": 11,
      "outputs": [
        {
          "output_type": "stream",
          "name": "stdout",
          "text": [
            "loss : 2.820239782333374 prediction : uukuuuuuuuuukuuuuuuuuuuuuusuuuuuuuu\n",
            "loss : 2.5405964851379395 prediction :                                    \n",
            "loss : 2.3091976642608643 prediction : s      s     so               sso  \n",
            "loss : 1.9457604885101318 prediction : sooil  s     sroit      sout  sorea\n",
            "loss : 1.5533915758132935 prediction : sooil  s  h  capithl su soul  korea\n",
            "loss : 1.1812185049057007 prediction : sooul ss  he capital ou soul  korea\n",
            "loss : 0.860175371170044 prediction : seoul is the capital of south korea\n",
            "loss : 0.6095166206359863 prediction : seoul is the capital of south korea\n",
            "loss : 0.43181368708610535 prediction : seoul is the capital of south korea\n",
            "loss : 0.3119470477104187 prediction : seoul is the capital of south korea\n",
            "loss : 0.2333676517009735 prediction : seoul is the capital of south korea\n"
          ]
        }
      ]
    },
    {
      "cell_type": "markdown",
      "source": [
        "## 2. LSTM"
      ],
      "metadata": {
        "id": "a0xpQcfLvEVG"
      }
    },
    {
      "cell_type": "code",
      "source": [],
      "metadata": {
        "id": "vC8pIVdSvFwm"
      },
      "execution_count": 11,
      "outputs": []
    }
  ]
}