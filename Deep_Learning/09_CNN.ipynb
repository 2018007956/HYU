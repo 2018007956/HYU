{
  "nbformat": 4,
  "nbformat_minor": 0,
  "metadata": {
    "colab": {
      "provenance": [],
      "authorship_tag": "ABX9TyMZ/3/CTYlzL3oAX0Z87NQM",
      "include_colab_link": true
    },
    "kernelspec": {
      "name": "python3",
      "display_name": "Python 3"
    },
    "language_info": {
      "name": "python"
    },
    "accelerator": "GPU",
    "gpuClass": "standard"
  },
  "cells": [
    {
      "cell_type": "markdown",
      "metadata": {
        "id": "view-in-github",
        "colab_type": "text"
      },
      "source": [
        "<a href=\"https://colab.research.google.com/github/2018007956/HYU/blob/main/Deep_Learning/09_CNN.ipynb\" target=\"_parent\"><img src=\"https://colab.research.google.com/assets/colab-badge.svg\" alt=\"Open In Colab\"/></a>"
      ]
    },
    {
      "cell_type": "markdown",
      "source": [
        "###1. MNIST dataset"
      ],
      "metadata": {
        "id": "5ZPZ1YifURYC"
      }
    },
    {
      "cell_type": "code",
      "source": [
        "import torch\n",
        "import torch.nn as nn\n",
        "import torch.optim as optim\n",
        "import torchvision\n",
        "import torchvision.transforms as transforms\n",
        "\n",
        "torch.manual_seed(0)\n",
        "torch.cuda.manual_seed(0)\n",
        "torch.cuda.manual_seed_all(0)\n",
        "\n",
        "if torch.cuda.is_available():\n",
        "  device = torch.device('cuda')\n",
        "else:\n",
        "  device = torch.device('cpu')"
      ],
      "metadata": {
        "id": "rVXK2mOvRnt-"
      },
      "execution_count": 1,
      "outputs": []
    },
    {
      "cell_type": "code",
      "source": [
        "\n",
        "train_dataset = torchvision.datasets.MNIST(root='MNIST_data/',\n",
        "                                             train=True,\n",
        "                                             transform=transforms.ToTensor(),\n",
        "                                             download=True)\n",
        "test_dataset = torchvision.datasets.MNIST(root='MNIST_data/',\n",
        "                                             train=False,\n",
        "                                             transform=transforms.ToTensor(),\n",
        "                                             download=True)\n",
        "\n",
        "batch_size = 128\n",
        "train_dataloader = torch.utils.data.DataLoader(train_dataset, batch_size=batch_size, shuffle=True)\n",
        "test_dataloader = torch.utils.data.DataLoader(test_dataset, batch_size=batch_size)"
      ],
      "metadata": {
        "id": "xxElrGqVRnwM"
      },
      "execution_count": 3,
      "outputs": []
    },
    {
      "cell_type": "code",
      "source": [
        "class CNN(nn.Module):\n",
        "  def __init__(self):\n",
        "    super().__init__()\n",
        "    self.conv1 = nn.Conv2d(1, 32, 3, 1, 1) #input channel, output channel, kernel size, stride, padding\n",
        "    self.pool = nn.MaxPool2d(2, 2)\n",
        "    self.conv2 = nn.Conv2d(32, 64, 3, 1, 1)\n",
        "    self.fc1 = nn.Linear(64*7*7, 128)\n",
        "    self.fc2 = nn.Linear(128, 10)\n",
        "    self.activation = nn.ReLU()\n",
        "    \n",
        "  def forward(self, x):\n",
        "    x = self.pool(self.activation(self.conv1(x)))\n",
        "    x = self.pool(self.activation(self.conv2(x)))\n",
        "    x = torch.flatten(x, 1) # flatten all dimensions except batch\n",
        "    x = self.activation(self.fc1(x))\n",
        "    x = self.fc2(x)\n",
        "    return x"
      ],
      "metadata": {
        "id": "0DRp7l7ARnyt"
      },
      "execution_count": 4,
      "outputs": []
    },
    {
      "cell_type": "code",
      "source": [
        "model=CNN().to(device)"
      ],
      "metadata": {
        "id": "HsQbtAHVRn03"
      },
      "execution_count": 11,
      "outputs": []
    },
    {
      "cell_type": "code",
      "source": [
        "optimizer = optim.Adam(model.parameters(), lr=0.001)"
      ],
      "metadata": {
        "id": "WQtsdV09Rn22"
      },
      "execution_count": 12,
      "outputs": []
    },
    {
      "cell_type": "code",
      "source": [
        "criterion = nn.CrossEntropyLoss()"
      ],
      "metadata": {
        "id": "bBLZLTXZTghb"
      },
      "execution_count": 13,
      "outputs": []
    },
    {
      "cell_type": "code",
      "source": [
        "epochs = 30\n",
        "\n",
        "train_avg_costs = []\n",
        "test_avg_costs = []\n",
        "\n",
        "model.train()\n",
        "for epoch in range(epochs):\n",
        "  model.train()\n",
        "  avg_cost = 0\n",
        "  total_batch_num = len(train_dataloader)\n",
        "\n",
        "  for b_x, b_y in train_dataloader:\n",
        "    logits = model(b_x.to(device)) # forward propagation\n",
        "    loss = criterion(logits, b_y.to(device)) # get cost\n",
        "\n",
        "    avg_cost += loss/total_batch_num\n",
        "    optimizer.zero_grad()\n",
        "    loss.backward() # backward propagation\n",
        "    optimizer.step() # update parameters\n",
        "  train_avg_costs.append(avg_cost.detach().cpu())\n",
        "  print('Epoch : {} / {}, cost: {}'.format(epoch+1, epochs, avg_cost))\n",
        "\n",
        "  test_avg_cost=0\n",
        "  test_total_batch = len(test_dataloader)\n",
        "  model.eval()\n",
        "  for b_x, b_y in test_dataloader:\n",
        "    with torch.no_grad():\n",
        "      logits = model(b_x.to(device))\n",
        "      test_loss = criterion(logits, b_y.to(device)) # get cost \n",
        "    test_avg_cost += test_loss / test_total_batch \n",
        "\n",
        "  test_avg_costs.append(test_avg_cost.detach().cpu())"
      ],
      "metadata": {
        "id": "FccFlG2kTgjc",
        "outputId": "a9ad2474-ffd7-4049-dadb-e9a70363bf22",
        "colab": {
          "base_uri": "https://localhost:8080/"
        }
      },
      "execution_count": 14,
      "outputs": [
        {
          "output_type": "stream",
          "name": "stdout",
          "text": [
            "Epoch : 1 / 30, cost: 0.237680122256279\n",
            "Epoch : 2 / 30, cost: 0.05507877469062805\n",
            "Epoch : 3 / 30, cost: 0.03978363424539566\n",
            "Epoch : 4 / 30, cost: 0.03061564452946186\n",
            "Epoch : 5 / 30, cost: 0.024288242682814598\n",
            "Epoch : 6 / 30, cost: 0.018508795648813248\n",
            "Epoch : 7 / 30, cost: 0.014735416509211063\n",
            "Epoch : 8 / 30, cost: 0.012062439695000648\n",
            "Epoch : 9 / 30, cost: 0.010693968273699284\n",
            "Epoch : 10 / 30, cost: 0.008026999421417713\n",
            "Epoch : 11 / 30, cost: 0.00824490375816822\n",
            "Epoch : 12 / 30, cost: 0.006450085435062647\n",
            "Epoch : 13 / 30, cost: 0.006789954379200935\n",
            "Epoch : 14 / 30, cost: 0.004085148684680462\n",
            "Epoch : 15 / 30, cost: 0.0046562692150473595\n",
            "Epoch : 16 / 30, cost: 0.0053583309054374695\n",
            "Epoch : 17 / 30, cost: 0.0029083124827593565\n",
            "Epoch : 18 / 30, cost: 0.00493730278685689\n",
            "Epoch : 19 / 30, cost: 0.006238835863769054\n",
            "Epoch : 20 / 30, cost: 0.002028054092079401\n",
            "Epoch : 21 / 30, cost: 0.0021607063245028257\n",
            "Epoch : 22 / 30, cost: 0.00128644157666713\n",
            "Epoch : 23 / 30, cost: 0.0016959228087216616\n",
            "Epoch : 24 / 30, cost: 0.00573652284219861\n",
            "Epoch : 25 / 30, cost: 0.002085647778585553\n",
            "Epoch : 26 / 30, cost: 0.0025800862349569798\n",
            "Epoch : 27 / 30, cost: 0.0010923378868028522\n",
            "Epoch : 28 / 30, cost: 0.0002622702741064131\n",
            "Epoch : 29 / 30, cost: 9.276180935557932e-05\n",
            "Epoch : 30 / 30, cost: 1.9088494809693657e-05\n"
          ]
        }
      ]
    },
    {
      "cell_type": "code",
      "source": [
        "import matplotlib.pyplot as plt\n",
        "import numpy as np\n",
        "epoch = range(epochs)\n",
        "plt.plot(epoch, train_avg_costs, 'r-')\n",
        "plt.plot(epoch, test_avg_costs, 'b-')\n",
        "plt.xlabel('Epoch')\n",
        "plt.ylabel('Loss')\n",
        "plt.legend(['train','test'])\n",
        "plt.show()"
      ],
      "metadata": {
        "id": "jb44pXVqYCDq",
        "outputId": "59b52ebd-cfba-497a-e69c-ac514833a194",
        "colab": {
          "base_uri": "https://localhost:8080/",
          "height": 449
        }
      },
      "execution_count": 15,
      "outputs": [
        {
          "output_type": "display_data",
          "data": {
            "text/plain": [
              "<Figure size 640x480 with 1 Axes>"
            ],
            "image/png": "[encoded data removed]"
          },
          "metadata": {}
        }
      ]
    },
    {
      "cell_type": "code",
      "source": [
        "correct = 0\n",
        "total = 0\n",
        "\n",
        "model.eval()\n",
        "for b_x, b_y in test_dataloader:\n",
        "  with torch.no_grad():\n",
        "    logits = model(b_x.to(device))\n",
        "\n",
        "  probs = nn.Softmax(dim=1)(logits)\n",
        "  predicts = torch.argmax(logits, dim=1)\n",
        "\n",
        "  total += len(b_y)\n",
        "  correct += (predicts == b_y.to(device)).sum().item()\n",
        "\n",
        "print(f'Accuracy of the network on test images: {100*correct//total} %')"
      ],
      "metadata": {
        "id": "7Z2UVzFpTglu",
        "outputId": "a7faf84e-6753-4371-9b95-7078d17b16ea",
        "colab": {
          "base_uri": "https://localhost:8080/"
        }
      },
      "execution_count": 16,
      "outputs": [
        {
          "output_type": "stream",
          "name": "stdout",
          "text": [
            "Accuracy of the network on test images: 99 %\n"
          ]
        }
      ]
    },
    {
      "cell_type": "markdown",
      "source": [
        "### 2. CIFAR-10 dataset"
      ],
      "metadata": {
        "id": "OL8l_x5iUVa4"
      }
    },
    {
      "cell_type": "code",
      "source": [
        "import torch\n",
        "import torch.nn as nn\n",
        "import torch.optim as optim\n",
        "import torchvision\n",
        "import torchvision.transforms as transforms\n",
        "\n",
        "torch.manual_seed(0)\n",
        "torch.cuda.manual_seed(0)\n",
        "torch.cuda.manual_seed_all(0)\n",
        "\n",
        "if torch.cuda.is_available():\n",
        "  device = torch.device('cuda')\n",
        "else:\n",
        "  device = torch.device('cpu')"
      ],
      "metadata": {
        "id": "V51imri-TgoK"
      },
      "execution_count": 17,
      "outputs": []
    },
    {
      "cell_type": "code",
      "source": [
        "train_dataset = torchvision.datasets.CIFAR10(root='CIFAR10/',\n",
        "                                             train=True,\n",
        "                                             transform=transforms.ToTensor(),\n",
        "                                             download=True)\n",
        "test_dataset = torchvision.datasets.CIFAR10(root='CIFAR10/',\n",
        "                                             train=False,\n",
        "                                             transform=transforms.ToTensor(),\n",
        "                                             download=True)\n",
        "\n",
        "batch_size = 128\n",
        "train_dataloader = torch.utils.data.DataLoader(train_dataset, batch_size=batch_size, shuffle=True)\n",
        "test_dataloader = torch.utils.data.DataLoader(test_dataset, batch_size=batch_size)"
      ],
      "metadata": {
        "id": "quZWRafETgqV",
        "outputId": "b9722a92-17f2-4448-c2e1-4c7f7080926a",
        "colab": {
          "base_uri": "https://localhost:8080/"
        }
      },
      "execution_count": 18,
      "outputs": [
        {
          "output_type": "stream",
          "name": "stdout",
          "text": [
            "Downloading https://www.cs.toronto.edu/~kriz/cifar-10-python.tar.gz to CIFAR10/cifar-10-python.tar.gz\n"
          ]
        },
        {
          "output_type": "stream",
          "name": "stderr",
          "text": [
            "100%|██████████| 170498071/170498071 [00:12<00:00, 13191993.30it/s]\n"
          ]
        },
        {
          "output_type": "stream",
          "name": "stdout",
          "text": [
            "Extracting CIFAR10/cifar-10-python.tar.gz to CIFAR10/\n",
            "Files already downloaded and verified\n"
          ]
        }
      ]
    },
    {
      "cell_type": "code",
      "source": [
        "class CNN(nn.Module):\n",
        "  def __init__(self):\n",
        "    super().__init__()\n",
        "    self.conv1 = nn.Conv2d(3, 6, 5) # input channel, output channel, filter size\n",
        "    self.pool = nn.MaxPool2d(2, 2)\n",
        "    self.conv2 = nn.Conv2d(6, 16, 5)\n",
        "    self.fc1 = nn.Linear(16*5*5, 120)\n",
        "    self.fc2 = nn.Linear(120, 84)\n",
        "    self.fc3 = nn.Linear(84, 10)\n",
        "    self.activation = nn.ReLU()\n",
        "    \n",
        "  def forward(self, x):\n",
        "    x = self.pool(self.activation(self.conv1(x)))\n",
        "    x = self.pool(self.activation(self.conv2(x)))\n",
        "    x = torch.flatten(x, 1) # flatten all dimensions except batch\n",
        "    x = self.activation(self.fc1(x))\n",
        "    x = self.activation(self.fc2(x))\n",
        "    x = self.fc3(x)\n",
        "    return x"
      ],
      "metadata": {
        "id": "9OG16QfiUgB0"
      },
      "execution_count": 19,
      "outputs": []
    },
    {
      "cell_type": "code",
      "source": [
        "model=CNN().to(device)"
      ],
      "metadata": {
        "id": "gVwO8xCoUgEq"
      },
      "execution_count": 31,
      "outputs": []
    },
    {
      "cell_type": "code",
      "source": [
        "optimizer = optim.Adam(model.parameters(), lr=0.001)"
      ],
      "metadata": {
        "id": "d0bfIarqUgG-"
      },
      "execution_count": 32,
      "outputs": []
    },
    {
      "cell_type": "code",
      "source": [
        "criterion = nn.CrossEntropyLoss()"
      ],
      "metadata": {
        "id": "2-yPlDKEVF7z"
      },
      "execution_count": 33,
      "outputs": []
    },
    {
      "cell_type": "code",
      "source": [
        "epochs = 30\n",
        "train_avg_costs = []\n",
        "test_avg_costs = []\n",
        "\n",
        "model.train()\n",
        "for epoch in range(epochs):\n",
        "  model.train()\n",
        "  avg_cost = 0\n",
        "  total_batch_num = len(train_dataloader)\n",
        "\n",
        "  for b_x, b_y in train_dataloader:\n",
        "    logits = model(b_x.to(device)) # forward propagation\n",
        "    loss = criterion(logits, b_y.to(device)) # get cost\n",
        "\n",
        "    avg_cost += loss/total_batch_num\n",
        "    optimizer.zero_grad()\n",
        "    loss.backward() # backward propagation\n",
        "    optimizer.step() # update parameters\n",
        "  train_avg_costs.append(avg_cost.detach().cpu())\n",
        "  print('Epoch : {} / {}, cost: {}'.format(epoch+1, epochs, avg_cost))\n",
        "\n",
        "  test_avg_cost=0\n",
        "  test_total_batch = len(test_dataloader)\n",
        "  model.eval()\n",
        "  for b_x, b_y in test_dataloader:\n",
        "    with torch.no_grad():\n",
        "      logits = model(b_x.to(device))\n",
        "      test_loss = criterion(logits, b_y.to(device)) # get cost \n",
        "    test_avg_cost += test_loss / test_total_batch \n",
        "\n",
        "  test_avg_costs.append(test_avg_cost.detach().cpu())"
      ],
      "metadata": {
        "id": "84AeswZPVF9v",
        "outputId": "b6b7692a-6cd1-4223-9d46-26a0671a97bd",
        "colab": {
          "base_uri": "https://localhost:8080/"
        }
      },
      "execution_count": 34,
      "outputs": [
        {
          "output_type": "stream",
          "name": "stdout",
          "text": [
            "Epoch : 1 / 30, cost: 1.9762260913848877\n",
            "Epoch : 2 / 30, cost: 1.6443061828613281\n",
            "Epoch : 3 / 30, cost: 1.4978920221328735\n",
            "Epoch : 4 / 30, cost: 1.3912121057510376\n",
            "Epoch : 5 / 30, cost: 1.3193658590316772\n",
            "Epoch : 6 / 30, cost: 1.2433178424835205\n",
            "Epoch : 7 / 30, cost: 1.1963022947311401\n",
            "Epoch : 8 / 30, cost: 1.1503740549087524\n",
            "Epoch : 9 / 30, cost: 1.1174321174621582\n",
            "Epoch : 10 / 30, cost: 1.0865403413772583\n",
            "Epoch : 11 / 30, cost: 1.0581938028335571\n",
            "Epoch : 12 / 30, cost: 1.02865731716156\n",
            "Epoch : 13 / 30, cost: 1.0032802820205688\n",
            "Epoch : 14 / 30, cost: 0.981351375579834\n",
            "Epoch : 15 / 30, cost: 0.9526724815368652\n",
            "Epoch : 16 / 30, cost: 0.9319174289703369\n",
            "Epoch : 17 / 30, cost: 0.9116265773773193\n",
            "Epoch : 18 / 30, cost: 0.8935131430625916\n",
            "Epoch : 19 / 30, cost: 0.8816999197006226\n",
            "Epoch : 20 / 30, cost: 0.8589445948600769\n",
            "Epoch : 21 / 30, cost: 0.8413164615631104\n",
            "Epoch : 22 / 30, cost: 0.8273653984069824\n",
            "Epoch : 23 / 30, cost: 0.8112390637397766\n",
            "Epoch : 24 / 30, cost: 0.7980532646179199\n",
            "Epoch : 25 / 30, cost: 0.7835627198219299\n",
            "Epoch : 26 / 30, cost: 0.7689626812934875\n",
            "Epoch : 27 / 30, cost: 0.7579881548881531\n",
            "Epoch : 28 / 30, cost: 0.7429577708244324\n",
            "Epoch : 29 / 30, cost: 0.7271279692649841\n",
            "Epoch : 30 / 30, cost: 0.7168272733688354\n"
          ]
        }
      ]
    },
    {
      "cell_type": "code",
      "source": [
        "import matplotlib.pyplot as plt\n",
        "import numpy as np\n",
        "epoch = range(epochs)\n",
        "plt.plot(epoch, train_avg_costs, 'r-')\n",
        "plt.plot(epoch, test_avg_costs, 'b-')\n",
        "plt.xlabel('Epoch')\n",
        "plt.ylabel('Loss')\n",
        "plt.legend(['train','test'])\n",
        "plt.show()"
      ],
      "metadata": {
        "id": "PYmHVjQkYGhN",
        "outputId": "17526206-c54d-4255-dfbd-88ba40a5f20f",
        "colab": {
          "base_uri": "https://localhost:8080/",
          "height": 449
        }
      },
      "execution_count": 35,
      "outputs": [
        {
          "output_type": "display_data",
          "data": {
            "text/plain": [
              "<Figure size 640x480 with 1 Axes>"
            ],
            "image/png": "[encoded data removed]"
          },
          "metadata": {}
        }
      ]
    },
    {
      "cell_type": "code",
      "source": [
        "correct = 0\n",
        "total = 0\n",
        "\n",
        "model.eval()\n",
        "for b_x, b_y in test_dataloader:\n",
        "  with torch.no_grad():\n",
        "    logits = model(b_x.to(device))\n",
        "\n",
        "  probs = nn.Softmax(dim=1)(logits)\n",
        "  predicts = torch.argmax(logits, dim=1)\n",
        "\n",
        "  total += len(b_y)\n",
        "  correct += (predicts == b_y.to(device)).sum().item()\n",
        "\n",
        "print(f'Accuracy of the network on test images: {100*correct//total} %')"
      ],
      "metadata": {
        "id": "xQ1KRNNIVGAK",
        "outputId": "e4df53a2-9958-4972-f24f-feda0ade57c0",
        "colab": {
          "base_uri": "https://localhost:8080/"
        }
      },
      "execution_count": 36,
      "outputs": [
        {
          "output_type": "stream",
          "name": "stdout",
          "text": [
            "Accuracy of the network on test images: 63 %\n"
          ]
        }
      ]
    }
  ]
}